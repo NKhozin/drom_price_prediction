{
 "cells": [
  {
   "cell_type": "code",
   "execution_count": 1,
   "metadata": {},
   "outputs": [],
   "source": [
    "import numpy as np\n",
    "import pandas as pd\n",
    "from sklearn.model_selection import train_test_split\n",
    "from sklearn.metrics import mean_absolute_error\n",
    "from sklearn.model_selection import GridSearchCV,RandomizedSearchCV\n",
    "from catboost import Pool, CatBoostRegressor\n",
    "import seaborn as sns\n",
    "import unidecode\n",
    "from tqdm import tqdm"
   ]
  },
  {
   "cell_type": "code",
   "execution_count": 2,
   "metadata": {},
   "outputs": [],
   "source": [
    "data = pd.read_csv('drom.csv',index_col=[0])"
   ]
  },
  {
   "cell_type": "code",
   "execution_count": 3,
   "metadata": {},
   "outputs": [
    {
     "data": {
      "text/html": [
       "<div>\n",
       "<style scoped>\n",
       "    .dataframe tbody tr th:only-of-type {\n",
       "        vertical-align: middle;\n",
       "    }\n",
       "\n",
       "    .dataframe tbody tr th {\n",
       "        vertical-align: top;\n",
       "    }\n",
       "\n",
       "    .dataframe thead th {\n",
       "        text-align: right;\n",
       "    }\n",
       "</style>\n",
       "<table border=\"1\" class=\"dataframe\">\n",
       "  <thead>\n",
       "    <tr style=\"text-align: right;\">\n",
       "      <th></th>\n",
       "      <th>Цена</th>\n",
       "      <th>Город</th>\n",
       "      <th>Модель</th>\n",
       "      <th>Год</th>\n",
       "      <th>Коробка передач</th>\n",
       "      <th>Привод</th>\n",
       "      <th>Тип кузова</th>\n",
       "      <th>Цвет</th>\n",
       "      <th>Пробег, км</th>\n",
       "      <th>Руль</th>\n",
       "      <th>Особые отметки</th>\n",
       "      <th>Поколение</th>\n",
       "      <th>Комплектация</th>\n",
       "      <th>Пробег</th>\n",
       "    </tr>\n",
       "  </thead>\n",
       "  <tbody>\n",
       "    <tr>\n",
       "      <th>0</th>\n",
       "      <td>915000</td>\n",
       "      <td>Якутск</td>\n",
       "      <td>Toyota Allion</td>\n",
       "      <td>2011</td>\n",
       "      <td>вариатор</td>\n",
       "      <td>4WD</td>\n",
       "      <td>NaN</td>\n",
       "      <td>серый</td>\n",
       "      <td>130 000</td>\n",
       "      <td>правый</td>\n",
       "      <td>NaN</td>\n",
       "      <td>2 поколение, рестайлинг</td>\n",
       "      <td>1.8 A18 G package luxury edition 4WD</td>\n",
       "      <td>NaN</td>\n",
       "    </tr>\n",
       "    <tr>\n",
       "      <th>1</th>\n",
       "      <td>599000</td>\n",
       "      <td>Владивосток</td>\n",
       "      <td>Toyota Allion</td>\n",
       "      <td>2007</td>\n",
       "      <td>вариатор</td>\n",
       "      <td>передний</td>\n",
       "      <td>NaN</td>\n",
       "      <td>голубой</td>\n",
       "      <td>150 000</td>\n",
       "      <td>правый</td>\n",
       "      <td>NaN</td>\n",
       "      <td>2 поколение</td>\n",
       "      <td>1.8 A18 S package</td>\n",
       "      <td>NaN</td>\n",
       "    </tr>\n",
       "    <tr>\n",
       "      <th>2</th>\n",
       "      <td>680000</td>\n",
       "      <td>Находка</td>\n",
       "      <td>Toyota Allion</td>\n",
       "      <td>2007</td>\n",
       "      <td>вариатор</td>\n",
       "      <td>передний</td>\n",
       "      <td>NaN</td>\n",
       "      <td>зеленый</td>\n",
       "      <td>235 000</td>\n",
       "      <td>правый</td>\n",
       "      <td>NaN</td>\n",
       "      <td>2 поколение</td>\n",
       "      <td>NaN</td>\n",
       "      <td>NaN</td>\n",
       "    </tr>\n",
       "    <tr>\n",
       "      <th>3</th>\n",
       "      <td>777777</td>\n",
       "      <td>Большой Камень</td>\n",
       "      <td>Toyota Allion</td>\n",
       "      <td>2008</td>\n",
       "      <td>вариатор</td>\n",
       "      <td>передний</td>\n",
       "      <td>NaN</td>\n",
       "      <td>черный</td>\n",
       "      <td>156 270</td>\n",
       "      <td>правый</td>\n",
       "      <td>NaN</td>\n",
       "      <td>2 поколение</td>\n",
       "      <td>1.8 A18 S package</td>\n",
       "      <td>NaN</td>\n",
       "    </tr>\n",
       "    <tr>\n",
       "      <th>4</th>\n",
       "      <td>750000</td>\n",
       "      <td>Иркутск</td>\n",
       "      <td>Toyota Allion</td>\n",
       "      <td>2007</td>\n",
       "      <td>вариатор</td>\n",
       "      <td>передний</td>\n",
       "      <td>NaN</td>\n",
       "      <td>зеленый</td>\n",
       "      <td>199 000</td>\n",
       "      <td>правый</td>\n",
       "      <td>NaN</td>\n",
       "      <td>2 поколение</td>\n",
       "      <td>1.8 A18</td>\n",
       "      <td>NaN</td>\n",
       "    </tr>\n",
       "  </tbody>\n",
       "</table>\n",
       "</div>"
      ],
      "text/plain": [
       "     Цена           Город         Модель   Год Коробка передач    Привод  \\\n",
       "0  915000          Якутск  Toyota Allion  2011        вариатор       4WD   \n",
       "1  599000     Владивосток  Toyota Allion  2007        вариатор  передний   \n",
       "2  680000         Находка  Toyota Allion  2007        вариатор  передний   \n",
       "3  777777  Большой Камень  Toyota Allion  2008        вариатор  передний   \n",
       "4  750000         Иркутск  Toyota Allion  2007        вариатор  передний   \n",
       "\n",
       "  Тип кузова     Цвет Пробег, км    Руль Особые отметки  \\\n",
       "0        NaN    серый    130 000  правый            NaN   \n",
       "1        NaN  голубой    150 000  правый            NaN   \n",
       "2        NaN  зеленый    235 000  правый            NaN   \n",
       "3        NaN   черный    156 270  правый            NaN   \n",
       "4        NaN  зеленый    199 000  правый            NaN   \n",
       "\n",
       "                 Поколение                          Комплектация Пробег  \n",
       "0  2 поколение, рестайлинг  1.8 A18 G package luxury edition 4WD    NaN  \n",
       "1              2 поколение                     1.8 A18 S package    NaN  \n",
       "2              2 поколение                                   NaN    NaN  \n",
       "3              2 поколение                     1.8 A18 S package    NaN  \n",
       "4              2 поколение                               1.8 A18    NaN  "
      ]
     },
     "execution_count": 3,
     "metadata": {},
     "output_type": "execute_result"
    }
   ],
   "source": [
    "data.head()"
   ]
  },
  {
   "cell_type": "code",
   "execution_count": 4,
   "metadata": {},
   "outputs": [
    {
     "data": {
      "text/plain": [
       "Цена                int64\n",
       "Город              object\n",
       "Модель             object\n",
       "Год                 int64\n",
       "Коробка передач    object\n",
       "Привод             object\n",
       "Тип кузова         object\n",
       "Цвет               object\n",
       "Пробег, км         object\n",
       "Руль               object\n",
       "Особые отметки     object\n",
       "Поколение          object\n",
       "Комплектация       object\n",
       "Пробег             object\n",
       "dtype: object"
      ]
     },
     "execution_count": 4,
     "metadata": {},
     "output_type": "execute_result"
    }
   ],
   "source": [
    "data.dtypes"
   ]
  },
  {
   "cell_type": "code",
   "execution_count": 5,
   "metadata": {
    "scrolled": false
   },
   "outputs": [
    {
     "name": "stdout",
     "output_type": "stream",
     "text": [
      "Цена - 0%\n",
      "Город - 0%\n",
      "Модель - 0%\n",
      "Год - 0%\n",
      "Коробка передач - 2%\n",
      "Привод - 1%\n",
      "Тип кузова - 52%\n",
      "Цвет - 4%\n",
      "Пробег, км - 14%\n",
      "Руль - 6%\n",
      "Особые отметки - 97%\n",
      "Поколение - 4%\n",
      "Комплектация - 42%\n",
      "Пробег - 87%\n"
     ]
    },
    {
     "data": {
      "image/png": "[encoded data removed]",
      "text/plain": [
       "<Figure size 432x288 with 2 Axes>"
      ]
     },
     "metadata": {
      "needs_background": "light"
     },
     "output_type": "display_data"
    }
   ],
   "source": [
    "colours = ['#000099', '#ffff00'] \n",
    "sns.heatmap(data.isnull(), cmap=sns.color_palette(colours))\n",
    "\n",
    "for col in data.columns:\n",
    "    pct_missing = np.mean(data[col].isnull())\n",
    "    print('{} - {}%'.format(col, round(pct_missing*100)))"
   ]
  },
  {
   "cell_type": "code",
   "execution_count": 6,
   "metadata": {},
   "outputs": [
    {
     "name": "stdout",
     "output_type": "stream",
     "text": [
      "Особые отметки: 96.73351%\n",
      "NaN                                                                                       235016\n",
      "требуется ремонт или не на ходу                                                             5603\n",
      "документы с проблемами или отсутствуют                                                       993\n",
      "требуется ремонт или не на ходу, документы с проблемами или отсутствуют                      143\n",
      "документы с проблемами, конструктор                                                           32\n",
      "                                                                                           ...  \n",
      "документы с проблемами, учёт КZ                                                                1\n",
      "документы с проблемами, неоформленный конструктор                                              1\n",
      "документы с проблемами, конструктор, грузовая таможенная декларация                            1\n",
      "документы с проблемами, учет Казахстан                                                         1\n",
      "документы с проблемами, автомобиль в залоге, договор залога расторгается в день сделки         1\n",
      "Name: Особые отметки, Length: 851, dtype: int64\n",
      "\n"
     ]
    }
   ],
   "source": [
    "#Составим список признаков, у которых более 95% строк содержат одно и то же значение.\n",
    "\n",
    "num_rows = len(data.index)\n",
    "low_information_cols = [] #\n",
    "\n",
    "for col in data.columns:\n",
    "    cnts = data[col].value_counts(dropna=False)\n",
    "    top_pct = (cnts/num_rows).iloc[0]\n",
    "    \n",
    "    if top_pct > 0.95:\n",
    "        low_information_cols.append(col)\n",
    "        print('{0}: {1:.5f}%'.format(col, top_pct*100))\n",
    "        print(cnts)\n",
    "        print()"
   ]
  },
  {
   "cell_type": "code",
   "execution_count": 7,
   "metadata": {},
   "outputs": [],
   "source": [
    "###Baseline"
   ]
  },
  {
   "cell_type": "code",
   "execution_count": 8,
   "metadata": {},
   "outputs": [],
   "source": [
    "def catboost(data):\n",
    "    cat_feat = data.select_dtypes(include=['object']).columns.tolist()\n",
    "    y = data['Цена']\n",
    "    X = data.drop('Цена', axis=1)\n",
    "    \n",
    "    X_train, X_test, y_train, y_test = train_test_split(X, y, test_size=0.33, random_state=42)\n",
    "    \n",
    "    model = CatBoostRegressor(cat_features=cat_feat, iterations=2000,metric_period=100)\n",
    "    \n",
    "    model.fit(X_train, y_train)\n",
    "    \n",
    "    preds_train = model.predict(X_train)\n",
    "    preds_test = model.predict(X_test)\n",
    "    \n",
    "    mae_train = mean_absolute_error(y_train, preds_train)\n",
    "    mae_test = mean_absolute_error(y_test, preds_test)\n",
    "    \n",
    "    return model, mae_train, mae_test"
   ]
  },
  {
   "cell_type": "code",
   "execution_count": 9,
   "metadata": {
    "scrolled": true
   },
   "outputs": [
    {
     "name": "stdout",
     "output_type": "stream",
     "text": [
      "Learning rate set to 0.052104\n",
      "0:\tlearn: 1595030.7902032\ttotal: 601ms\tremaining: 20m 1s\n",
      "100:\tlearn: 631770.8991607\ttotal: 44s\tremaining: 13m 48s\n",
      "200:\tlearn: 548534.5660868\ttotal: 1m 25s\tremaining: 12m 47s\n",
      "300:\tlearn: 515722.4788587\ttotal: 2m 13s\tremaining: 12m 32s\n",
      "400:\tlearn: 486765.9196417\ttotal: 2m 58s\tremaining: 11m 53s\n",
      "500:\tlearn: 458172.4621646\ttotal: 3m 44s\tremaining: 11m 11s\n",
      "600:\tlearn: 440402.9579388\ttotal: 4m 28s\tremaining: 10m 26s\n",
      "700:\tlearn: 422821.4034530\ttotal: 5m 14s\tremaining: 9m 43s\n",
      "800:\tlearn: 410556.2742485\ttotal: 6m\tremaining: 8m 58s\n",
      "900:\tlearn: 400703.9602711\ttotal: 6m 45s\tremaining: 8m 14s\n",
      "1000:\tlearn: 390683.1484487\ttotal: 7m 43s\tremaining: 7m 42s\n",
      "1100:\tlearn: 380335.1963757\ttotal: 8m 33s\tremaining: 6m 59s\n",
      "1200:\tlearn: 373791.7087202\ttotal: 9m 23s\tremaining: 6m 15s\n",
      "1300:\tlearn: 368978.1634167\ttotal: 10m 16s\tremaining: 5m 31s\n",
      "1400:\tlearn: 360848.3498859\ttotal: 11m 15s\tremaining: 4m 48s\n",
      "1500:\tlearn: 354205.6093553\ttotal: 12m 14s\tremaining: 4m 4s\n",
      "1600:\tlearn: 349720.1426537\ttotal: 13m 11s\tremaining: 3m 17s\n",
      "1700:\tlearn: 345023.4081370\ttotal: 14m 3s\tremaining: 2m 28s\n",
      "1800:\tlearn: 341129.5242958\ttotal: 15m\tremaining: 1m 39s\n",
      "1900:\tlearn: 337243.5946407\ttotal: 15m 55s\tremaining: 49.8s\n",
      "1999:\tlearn: 334250.3333954\ttotal: 16m 45s\tremaining: 0us\n"
     ]
    }
   ],
   "source": [
    "model, mae_train, mae_test = catboost(data.fillna('неизвестно'))"
   ]
  },
  {
   "cell_type": "code",
   "execution_count": 10,
   "metadata": {},
   "outputs": [
    {
     "name": "stdout",
     "output_type": "stream",
     "text": [
      "MAE train: 142425.28677603052\n",
      "MAE test: 146503.70936191131\n"
     ]
    }
   ],
   "source": [
    "print('MAE train:',mae_train)\n",
    "print('MAE test:',mae_test)"
   ]
  },
  {
   "cell_type": "code",
   "execution_count": 11,
   "metadata": {},
   "outputs": [],
   "source": [
    "#####"
   ]
  },
  {
   "cell_type": "code",
   "execution_count": 12,
   "metadata": {},
   "outputs": [
    {
     "data": {
      "text/plain": [
       "(242952, 14)"
      ]
     },
     "execution_count": 12,
     "metadata": {},
     "output_type": "execute_result"
    }
   ],
   "source": [
    "data.shape"
   ]
  },
  {
   "cell_type": "code",
   "execution_count": 13,
   "metadata": {},
   "outputs": [
    {
     "data": {
      "text/html": [
       "<div>\n",
       "<style scoped>\n",
       "    .dataframe tbody tr th:only-of-type {\n",
       "        vertical-align: middle;\n",
       "    }\n",
       "\n",
       "    .dataframe tbody tr th {\n",
       "        vertical-align: top;\n",
       "    }\n",
       "\n",
       "    .dataframe thead th {\n",
       "        text-align: right;\n",
       "    }\n",
       "</style>\n",
       "<table border=\"1\" class=\"dataframe\">\n",
       "  <thead>\n",
       "    <tr style=\"text-align: right;\">\n",
       "      <th></th>\n",
       "      <th>Цена</th>\n",
       "      <th>Город</th>\n",
       "      <th>Модель</th>\n",
       "      <th>Год</th>\n",
       "      <th>Коробка передач</th>\n",
       "      <th>Привод</th>\n",
       "      <th>Тип кузова</th>\n",
       "      <th>Цвет</th>\n",
       "      <th>Пробег, км</th>\n",
       "      <th>Руль</th>\n",
       "      <th>Особые отметки</th>\n",
       "      <th>Поколение</th>\n",
       "      <th>Комплектация</th>\n",
       "      <th>Пробег</th>\n",
       "    </tr>\n",
       "  </thead>\n",
       "  <tbody>\n",
       "    <tr>\n",
       "      <th>0</th>\n",
       "      <td>915000</td>\n",
       "      <td>Якутск</td>\n",
       "      <td>Toyota Allion</td>\n",
       "      <td>2011</td>\n",
       "      <td>вариатор</td>\n",
       "      <td>4WD</td>\n",
       "      <td>NaN</td>\n",
       "      <td>серый</td>\n",
       "      <td>130 000</td>\n",
       "      <td>правый</td>\n",
       "      <td>NaN</td>\n",
       "      <td>2 поколение, рестайлинг</td>\n",
       "      <td>1.8 A18 G package luxury edition 4WD</td>\n",
       "      <td>NaN</td>\n",
       "    </tr>\n",
       "    <tr>\n",
       "      <th>1</th>\n",
       "      <td>599000</td>\n",
       "      <td>Владивосток</td>\n",
       "      <td>Toyota Allion</td>\n",
       "      <td>2007</td>\n",
       "      <td>вариатор</td>\n",
       "      <td>передний</td>\n",
       "      <td>NaN</td>\n",
       "      <td>голубой</td>\n",
       "      <td>150 000</td>\n",
       "      <td>правый</td>\n",
       "      <td>NaN</td>\n",
       "      <td>2 поколение</td>\n",
       "      <td>1.8 A18 S package</td>\n",
       "      <td>NaN</td>\n",
       "    </tr>\n",
       "    <tr>\n",
       "      <th>2</th>\n",
       "      <td>680000</td>\n",
       "      <td>Находка</td>\n",
       "      <td>Toyota Allion</td>\n",
       "      <td>2007</td>\n",
       "      <td>вариатор</td>\n",
       "      <td>передний</td>\n",
       "      <td>NaN</td>\n",
       "      <td>зеленый</td>\n",
       "      <td>235 000</td>\n",
       "      <td>правый</td>\n",
       "      <td>NaN</td>\n",
       "      <td>2 поколение</td>\n",
       "      <td>NaN</td>\n",
       "      <td>NaN</td>\n",
       "    </tr>\n",
       "    <tr>\n",
       "      <th>3</th>\n",
       "      <td>777777</td>\n",
       "      <td>Большой Камень</td>\n",
       "      <td>Toyota Allion</td>\n",
       "      <td>2008</td>\n",
       "      <td>вариатор</td>\n",
       "      <td>передний</td>\n",
       "      <td>NaN</td>\n",
       "      <td>черный</td>\n",
       "      <td>156 270</td>\n",
       "      <td>правый</td>\n",
       "      <td>NaN</td>\n",
       "      <td>2 поколение</td>\n",
       "      <td>1.8 A18 S package</td>\n",
       "      <td>NaN</td>\n",
       "    </tr>\n",
       "    <tr>\n",
       "      <th>4</th>\n",
       "      <td>750000</td>\n",
       "      <td>Иркутск</td>\n",
       "      <td>Toyota Allion</td>\n",
       "      <td>2007</td>\n",
       "      <td>вариатор</td>\n",
       "      <td>передний</td>\n",
       "      <td>NaN</td>\n",
       "      <td>зеленый</td>\n",
       "      <td>199 000</td>\n",
       "      <td>правый</td>\n",
       "      <td>NaN</td>\n",
       "      <td>2 поколение</td>\n",
       "      <td>1.8 A18</td>\n",
       "      <td>NaN</td>\n",
       "    </tr>\n",
       "  </tbody>\n",
       "</table>\n",
       "</div>"
      ],
      "text/plain": [
       "     Цена           Город         Модель   Год Коробка передач    Привод  \\\n",
       "0  915000          Якутск  Toyota Allion  2011        вариатор       4WD   \n",
       "1  599000     Владивосток  Toyota Allion  2007        вариатор  передний   \n",
       "2  680000         Находка  Toyota Allion  2007        вариатор  передний   \n",
       "3  777777  Большой Камень  Toyota Allion  2008        вариатор  передний   \n",
       "4  750000         Иркутск  Toyota Allion  2007        вариатор  передний   \n",
       "\n",
       "  Тип кузова     Цвет Пробег, км    Руль Особые отметки  \\\n",
       "0        NaN    серый    130 000  правый            NaN   \n",
       "1        NaN  голубой    150 000  правый            NaN   \n",
       "2        NaN  зеленый    235 000  правый            NaN   \n",
       "3        NaN   черный    156 270  правый            NaN   \n",
       "4        NaN  зеленый    199 000  правый            NaN   \n",
       "\n",
       "                 Поколение                          Комплектация Пробег  \n",
       "0  2 поколение, рестайлинг  1.8 A18 G package luxury edition 4WD    NaN  \n",
       "1              2 поколение                     1.8 A18 S package    NaN  \n",
       "2              2 поколение                                   NaN    NaN  \n",
       "3              2 поколение                     1.8 A18 S package    NaN  \n",
       "4              2 поколение                               1.8 A18    NaN  "
      ]
     },
     "execution_count": 13,
     "metadata": {},
     "output_type": "execute_result"
    }
   ],
   "source": [
    "data.head()"
   ]
  },
  {
   "cell_type": "code",
   "execution_count": 14,
   "metadata": {},
   "outputs": [
    {
     "name": "stdout",
     "output_type": "stream",
     "text": [
      "Цена, плохих значений 0\n",
      "Город, плохих значений 0\n",
      "Модель, плохих значений 0\n",
      "Год, плохих значений 0\n",
      "Коробка передач, плохих значений 0\n",
      "Привод, плохих значений 0\n",
      "Тип кузова, плохих значений 0\n",
      "Цвет, плохих значений 0\n",
      "Пробег, км, плохих значений 0\n",
      "Руль, плохих значений 0\n",
      "Особые отметки, плохих значений 0\n",
      "Поколение, плохих значений 0\n",
      "Комплектация, плохих значений 0\n",
      "Пробег, плохих значений 0\n"
     ]
    }
   ],
   "source": [
    "#Не содержатся ли в данных какие-то символы, которые могли остаться при парсинге\n",
    "\n",
    "def find_substring(values):\n",
    "    values = str(values)\n",
    "    extensionsToCheck = [\"[\", \"]\", \"{\", \"}\",\"_\"]\n",
    "    if any(ext in values for ext in extensionsToCheck):\n",
    "        return True\n",
    "    else:\n",
    "        return False\n",
    "    \n",
    "for column in data.columns:\n",
    "    print(\"{}, плохих значений {}\".format(column,data[column].apply(find_substring).sum()))"
   ]
  },
  {
   "cell_type": "code",
   "execution_count": 15,
   "metadata": {},
   "outputs": [
    {
     "name": "stdout",
     "output_type": "stream",
     "text": [
      "Город, уникальных значений 2384\n",
      "Модель, уникальных значений 351\n",
      "Коробка передач, уникальных значений 5\n",
      "Привод, уникальных значений 3\n",
      "Тип кузова, уникальных значений 11\n",
      "Цвет, уникальных значений 16\n",
      "Пробег, км, уникальных значений 46639\n",
      "Руль, уникальных значений 2\n",
      "Особые отметки, уникальных значений 850\n",
      "Поколение, уникальных значений 50\n",
      "Комплектация, уникальных значений 11688\n",
      "Пробег, уникальных значений 1\n"
     ]
    }
   ],
   "source": [
    "cat_feat = data.select_dtypes(include=['object']).columns.tolist()\n",
    "for i in cat_feat:\n",
    "    print(\"{}, уникальных значений {}\".format(i, data[i].nunique()))"
   ]
  },
  {
   "cell_type": "code",
   "execution_count": 16,
   "metadata": {},
   "outputs": [],
   "source": [
    "def generation(values):\n",
    "    try:\n",
    "        string_list = values.split(' ')\n",
    "        return string_list[0]\n",
    "    except:\n",
    "        return -1\n",
    "    \n",
    "def restyling(values):\n",
    "    find_subst='рестайлинг'\n",
    "    try:\n",
    "        string_list = values.split(' ')\n",
    "        if find_subst in string_list:\n",
    "            return 1\n",
    "        else:\n",
    "            return 0\n",
    "    except:\n",
    "        return -1\n",
    "    \n",
    "data['Поколение'] = data['Поколение'].apply(generation)\n",
    "data['Рестайлинг'] = data['Поколение'].apply(restyling)"
   ]
  },
  {
   "cell_type": "code",
   "execution_count": 17,
   "metadata": {},
   "outputs": [],
   "source": [
    "data['Проблема с документами'] = data['Особые отметки'].apply(lambda x: 1 if str(x) in 'документы' else 0)\n",
    "data['Ремонт'] = data['Особые отметки'].apply(lambda x: 1 if str(x) in ['ремонт','не на ходу'] else 0)"
   ]
  },
  {
   "cell_type": "code",
   "execution_count": 18,
   "metadata": {},
   "outputs": [],
   "source": [
    "def body_type(values):        \n",
    "    try:\n",
    "        string_list = values.split(' ')\n",
    "        if '/' in string:\n",
    "            return string.split('/')[0]\n",
    "        else:\n",
    "            return string_list[0]\n",
    "    except:\n",
    "        if isinstance(values, float):\n",
    "            return 'неизвестно'\n",
    "        else:\n",
    "            values\n",
    "            \n",
    "data['Тип кузова'] = data['Тип кузова'].apply(body_type)"
   ]
  },
  {
   "cell_type": "code",
   "execution_count": 19,
   "metadata": {},
   "outputs": [],
   "source": [
    "data['Пробег, км'] = data['Пробег, км'].fillna(0)\n",
    "data['Новый автомобиль'] = data['Пробег'].apply(lambda x: 1 if str(x) in 'новый автомобиль' else 0)"
   ]
  },
  {
   "cell_type": "code",
   "execution_count": 20,
   "metadata": {},
   "outputs": [],
   "source": [
    "data = data.drop(['Пробег','Особые отметки','Пробег'], axis=1)\n",
    "data['Комплектация'] = data['Комплектация'].fillna('unknown')"
   ]
  },
  {
   "cell_type": "code",
   "execution_count": 21,
   "metadata": {},
   "outputs": [],
   "source": [
    "data[['Коробка передач','Привод','Тип кузова','Цвет','Руль']] = data[['Коробка передач','Привод','Тип кузова','Цвет','Руль']].fillna('неизвестно')"
   ]
  },
  {
   "cell_type": "code",
   "execution_count": 22,
   "metadata": {},
   "outputs": [],
   "source": [
    "def mileage_russia(values):\n",
    "    try:\n",
    "        string_list = values.split(',')\n",
    "        if 'б/п по РФ' in string_list:\n",
    "            return 1\n",
    "        else:\n",
    "            return 0\n",
    "    except:\n",
    "        return 0\n",
    "\n",
    "data['Пробег по РФ'] = data['Пробег, км'].apply(mileage_russia)  "
   ]
  },
  {
   "cell_type": "code",
   "execution_count": 23,
   "metadata": {},
   "outputs": [],
   "source": [
    "def unicode_to_int(values):\n",
    "    values = unidecode.unidecode(values)\n",
    "    values = values.replace(' ','')\n",
    "    return int(values)\n",
    "\n",
    "def milliage(values):\n",
    "    try:\n",
    "        values = unicode_to_int(values)\n",
    "        return values\n",
    "    except:\n",
    "        try:\n",
    "            string_list = values.split(',')\n",
    "            if 'б/п по РФ' in string_list and len(string_list)==1:\n",
    "                return 0\n",
    "            else:\n",
    "                return unicode_to_int(string_list[0])\n",
    "        except:\n",
    "            return int(values)\n",
    "        \n",
    "     \n",
    "data['Пробег, км'] = data['Пробег, км'].apply(milliage)\n",
    "data['Пробег, км'] = data['Пробег, км'].astype('int')\n",
    "data['Поколение'] = data['Поколение'].astype('int')"
   ]
  },
  {
   "cell_type": "code",
   "execution_count": 24,
   "metadata": {},
   "outputs": [
    {
     "data": {
      "text/plain": [
       "Цена                       int64\n",
       "Город                     object\n",
       "Модель                    object\n",
       "Год                        int64\n",
       "Коробка передач           object\n",
       "Привод                    object\n",
       "Тип кузова                object\n",
       "Цвет                      object\n",
       "Пробег, км                 int32\n",
       "Руль                      object\n",
       "Поколение                  int32\n",
       "Комплектация              object\n",
       "Рестайлинг                 int64\n",
       "Проблема с документами     int64\n",
       "Ремонт                     int64\n",
       "Новый автомобиль           int64\n",
       "Пробег по РФ               int64\n",
       "dtype: object"
      ]
     },
     "execution_count": 24,
     "metadata": {},
     "output_type": "execute_result"
    }
   ],
   "source": [
    "data.dtypes"
   ]
  },
  {
   "cell_type": "code",
   "execution_count": 25,
   "metadata": {
    "scrolled": true
   },
   "outputs": [
    {
     "name": "stdout",
     "output_type": "stream",
     "text": [
      "Learning rate set to 0.052104\n",
      "0:\tlearn: 1597038.4758087\ttotal: 307ms\tremaining: 10m 14s\n",
      "100:\tlearn: 619782.7954368\ttotal: 25.7s\tremaining: 8m 2s\n",
      "200:\tlearn: 540994.9923516\ttotal: 49.4s\tremaining: 7m 22s\n",
      "300:\tlearn: 496121.6992760\ttotal: 1m 13s\tremaining: 6m 53s\n",
      "400:\tlearn: 463775.5516372\ttotal: 1m 37s\tremaining: 6m 27s\n",
      "500:\tlearn: 444185.8921403\ttotal: 2m 1s\tremaining: 6m 4s\n",
      "600:\tlearn: 424847.4952291\ttotal: 2m 26s\tremaining: 5m 40s\n",
      "700:\tlearn: 408181.2993419\ttotal: 2m 50s\tremaining: 5m 15s\n",
      "800:\tlearn: 393902.0266093\ttotal: 3m 14s\tremaining: 4m 50s\n",
      "900:\tlearn: 384975.4928369\ttotal: 3m 38s\tremaining: 4m 26s\n",
      "1000:\tlearn: 378660.6152533\ttotal: 4m 3s\tremaining: 4m 2s\n",
      "1100:\tlearn: 370026.7701770\ttotal: 4m 27s\tremaining: 3m 38s\n",
      "1200:\tlearn: 363934.5756959\ttotal: 4m 52s\tremaining: 3m 14s\n",
      "1300:\tlearn: 358981.9109022\ttotal: 5m 16s\tremaining: 2m 49s\n",
      "1400:\tlearn: 354098.0960253\ttotal: 5m 39s\tremaining: 2m 25s\n",
      "1500:\tlearn: 348491.1851997\ttotal: 6m 3s\tremaining: 2m\n",
      "1600:\tlearn: 344778.7542296\ttotal: 6m 27s\tremaining: 1m 36s\n",
      "1700:\tlearn: 341061.2536803\ttotal: 6m 52s\tremaining: 1m 12s\n",
      "1800:\tlearn: 336283.4478766\ttotal: 7m 17s\tremaining: 48.4s\n",
      "1900:\tlearn: 333408.5630845\ttotal: 7m 43s\tremaining: 24.1s\n",
      "1999:\tlearn: 329568.2460051\ttotal: 8m 7s\tremaining: 0us\n"
     ]
    }
   ],
   "source": [
    "model, mae_train, mae_test = catboost(data)"
   ]
  },
  {
   "cell_type": "code",
   "execution_count": 26,
   "metadata": {},
   "outputs": [
    {
     "name": "stdout",
     "output_type": "stream",
     "text": [
      "MAE train: 141703.29593923705\n",
      "MAE test: 146720.5735402735\n"
     ]
    }
   ],
   "source": [
    "print('MAE train:',mae_train)\n",
    "print('MAE test:',mae_test)"
   ]
  },
  {
   "cell_type": "code",
   "execution_count": 27,
   "metadata": {},
   "outputs": [],
   "source": [
    "data_with_encoding = pd.get_dummies(data, columns=['Коробка передач','Привод','Тип кузова','Цвет','Руль'])"
   ]
  },
  {
   "cell_type": "code",
   "execution_count": 28,
   "metadata": {},
   "outputs": [
    {
     "name": "stdout",
     "output_type": "stream",
     "text": [
      "Learning rate set to 0.052104\n",
      "0:\tlearn: 1600849.2812786\ttotal: 145ms\tremaining: 4m 50s\n",
      "100:\tlearn: 639169.9867747\ttotal: 14.4s\tremaining: 4m 31s\n",
      "200:\tlearn: 558967.5510914\ttotal: 28.1s\tremaining: 4m 11s\n",
      "300:\tlearn: 506553.9365268\ttotal: 41.3s\tremaining: 3m 53s\n",
      "400:\tlearn: 470476.6285097\ttotal: 54.2s\tremaining: 3m 36s\n",
      "500:\tlearn: 440464.7561636\ttotal: 1m 7s\tremaining: 3m 23s\n",
      "600:\tlearn: 422212.2001640\ttotal: 1m 21s\tremaining: 3m 10s\n",
      "700:\tlearn: 406718.2340112\ttotal: 1m 35s\tremaining: 2m 56s\n",
      "800:\tlearn: 393162.1672563\ttotal: 1m 47s\tremaining: 2m 41s\n",
      "900:\tlearn: 381811.4215093\ttotal: 2m\tremaining: 2m 27s\n",
      "1000:\tlearn: 374008.9218928\ttotal: 2m 14s\tremaining: 2m 13s\n",
      "1100:\tlearn: 366354.4757451\ttotal: 2m 27s\tremaining: 2m\n",
      "1200:\tlearn: 360079.0550523\ttotal: 2m 40s\tremaining: 1m 46s\n",
      "1300:\tlearn: 354170.3037377\ttotal: 2m 53s\tremaining: 1m 33s\n",
      "1400:\tlearn: 348992.7411558\ttotal: 3m 6s\tremaining: 1m 19s\n",
      "1500:\tlearn: 344209.5507929\ttotal: 3m 19s\tremaining: 1m 6s\n",
      "1600:\tlearn: 340240.9766084\ttotal: 3m 31s\tremaining: 52.7s\n",
      "1700:\tlearn: 336655.1612187\ttotal: 3m 44s\tremaining: 39.5s\n",
      "1800:\tlearn: 333035.0181330\ttotal: 3m 56s\tremaining: 26.1s\n",
      "1900:\tlearn: 329775.2856688\ttotal: 4m 8s\tremaining: 12.9s\n",
      "1999:\tlearn: 326260.2337423\ttotal: 4m 21s\tremaining: 0us\n"
     ]
    }
   ],
   "source": [
    "model, mae_train, mae_test = catboost(data_with_encoding)"
   ]
  },
  {
   "cell_type": "code",
   "execution_count": 29,
   "metadata": {},
   "outputs": [
    {
     "name": "stdout",
     "output_type": "stream",
     "text": [
      "MAE train: 140228.53869544165\n",
      "MAE test: 145922.73298892807\n"
     ]
    }
   ],
   "source": [
    "print('MAE train:',mae_train)\n",
    "print('MAE test:',mae_test)"
   ]
  },
  {
   "cell_type": "code",
   "execution_count": 30,
   "metadata": {},
   "outputs": [
    {
     "data": {
      "text/plain": [
       "{'nan_mode': 'Min',\n",
       " 'eval_metric': 'RMSE',\n",
       " 'combinations_ctr': ['Borders:CtrBorderCount=15:CtrBorderType=Uniform:TargetBorderCount=1:TargetBorderType=MinEntropy:Prior=0/1:Prior=0.5/1:Prior=1/1',\n",
       "  'Counter:CtrBorderCount=15:CtrBorderType=Uniform:Prior=0/1'],\n",
       " 'iterations': 2000,\n",
       " 'sampling_frequency': 'PerTree',\n",
       " 'fold_permutation_block': 0,\n",
       " 'leaf_estimation_method': 'Newton',\n",
       " 'counter_calc_method': 'SkipTest',\n",
       " 'grow_policy': 'SymmetricTree',\n",
       " 'penalties_coefficient': 1,\n",
       " 'boosting_type': 'Plain',\n",
       " 'model_shrink_mode': 'Constant',\n",
       " 'feature_border_type': 'GreedyLogSum',\n",
       " 'ctr_leaf_count_limit': 18446744073709551615,\n",
       " 'bayesian_matrix_reg': 0.10000000149011612,\n",
       " 'one_hot_max_size': 2,\n",
       " 'force_unit_auto_pair_weights': False,\n",
       " 'l2_leaf_reg': 3,\n",
       " 'random_strength': 1,\n",
       " 'rsm': 1,\n",
       " 'boost_from_average': True,\n",
       " 'max_ctr_complexity': 4,\n",
       " 'model_size_reg': 0.5,\n",
       " 'simple_ctr': ['Borders:CtrBorderCount=15:CtrBorderType=Uniform:TargetBorderCount=1:TargetBorderType=MinEntropy:Prior=0/1:Prior=0.5/1:Prior=1/1',\n",
       "  'Counter:CtrBorderCount=15:CtrBorderType=Uniform:Prior=0/1'],\n",
       " 'pool_metainfo_options': {'tags': {}},\n",
       " 'subsample': 0.800000011920929,\n",
       " 'use_best_model': False,\n",
       " 'random_seed': 0,\n",
       " 'depth': 6,\n",
       " 'ctr_target_border_count': 1,\n",
       " 'posterior_sampling': False,\n",
       " 'has_time': False,\n",
       " 'store_all_simple_ctr': False,\n",
       " 'border_count': 254,\n",
       " 'classes_count': 0,\n",
       " 'auto_class_weights': 'None',\n",
       " 'sparse_features_conflict_fraction': 0,\n",
       " 'leaf_estimation_backtracking': 'AnyImprovement',\n",
       " 'best_model_min_trees': 1,\n",
       " 'model_shrink_rate': 0,\n",
       " 'min_data_in_leaf': 1,\n",
       " 'loss_function': 'RMSE',\n",
       " 'learning_rate': 0.05210400000214577,\n",
       " 'score_function': 'Cosine',\n",
       " 'task_type': 'CPU',\n",
       " 'leaf_estimation_iterations': 1,\n",
       " 'bootstrap_type': 'MVS',\n",
       " 'max_leaves': 64,\n",
       " 'permutation_count': 4}"
      ]
     },
     "execution_count": 30,
     "metadata": {},
     "output_type": "execute_result"
    }
   ],
   "source": [
    "model.get_all_params()"
   ]
  },
  {
   "cell_type": "code",
   "execution_count": 34,
   "metadata": {},
   "outputs": [],
   "source": [
    "def catboost_tune(data):\n",
    "    cat_feat = data.select_dtypes(include=['object']).columns.tolist()\n",
    "\n",
    "    y = data['Цена']\n",
    "    X = data.drop('Цена', axis=1)\n",
    "\n",
    "    X_train, X_test, y_train, y_test = train_test_split(X, y, test_size=0.33, random_state=42)\n",
    "\n",
    "    model = CatBoostRegressor(cat_features=cat_feat, loss_function='MAE')\n",
    "    \n",
    "#     parameters = {'depth': [4,6,7,8,10],\n",
    "#                   'learning_rate' : [0.01, 0.1, 0.2],\n",
    "#                   'iterations'    : [800,1000, 1200,1500, 2000]\n",
    "#                  }\n",
    "#     parameters = {\n",
    "#         #'depth': [5,6,7],\n",
    "#         'learning_rate' : [0.2,0.25,0.3],\n",
    "#         'iterations'    : [1500,2000,2500]\n",
    "#                  }\n",
    "    \n",
    "    parameters = {\n",
    "        'learning_rate' : [0.2],\n",
    "        'iterations'    : [2500]\n",
    "                 }\n",
    "    \n",
    "    Grid_CBC = GridSearchCV(estimator=model, param_grid = parameters, cv = 3, n_jobs=3, scoring='neg_mean_absolute_error', verbose=10)\n",
    "    Grid_CBC.fit(X_train, y_train)\n",
    "    \n",
    "    #Grid_CBC = RandomizedSearchCV(estimator=model, param_distributions = parameters, cv = 3, n_jobs=3, scoring='neg_mean_absolute_error', n_iter=15)\n",
    "    #Grid_CBC.fit(X_train, y_train)\n",
    "    \n",
    "    print(\" Results from Grid Search \" )\n",
    "    print(\"\\n The best score across ALL searched params:\\n\",Grid_CBC.best_score_)\n",
    "    print(\"\\n The best parameters across ALL searched params:\\n\",Grid_CBC.best_params_)\n",
    "    \n",
    "    best_model = Grid_CBC.best_estimator_\n",
    "    \n",
    "    preds_train = best_model.predict(X_train)\n",
    "    preds_test = best_model.predict(X_test)\n",
    "    \n",
    "    mae_train = mean_absolute_error(y_train, preds_train)\n",
    "    mae_test = mean_absolute_error(y_test, preds_test)\n",
    "    \n",
    "    return best_model, mae_train, mae_test,X_train, y_train, cat_feat"
   ]
  },
  {
   "cell_type": "code",
   "execution_count": null,
   "metadata": {},
   "outputs": [
    {
     "name": "stdout",
     "output_type": "stream",
     "text": [
      "Fitting 3 folds for each of 1 candidates, totalling 3 fits\n"
     ]
    }
   ],
   "source": [
    "best_model, mae_train, mae_test,X_train, y_train, cat_feat = catboost_tune(data_with_encoding)"
   ]
  },
  {
   "cell_type": "code",
   "execution_count": 35,
   "metadata": {},
   "outputs": [
    {
     "name": "stdout",
     "output_type": "stream",
     "text": [
      "MAE train: 131686.12015359398\n",
      "MAE test: 139622.16916627705\n"
     ]
    }
   ],
   "source": [
    "print('MAE train:',mae_train)\n",
    "print('MAE test:',mae_test)"
   ]
  },
  {
   "cell_type": "code",
   "execution_count": 62,
   "metadata": {},
   "outputs": [],
   "source": [
    "shap_values = explainer.shap_values(Pool(X_train, y_train, cat_features=cat_feat))"
   ]
  },
  {
   "cell_type": "code",
   "execution_count": 63,
   "metadata": {},
   "outputs": [
    {
     "data": {
      "text/html": [
       "\n",
       "<div id='iUV9BJW6LGEMJF1B6ZJ39'>\n",
       "<div style='color: #900; text-align: center;'>\n",
       "  <b>Visualization omitted, Javascript library not loaded!</b><br>\n",
       "  Have you run `initjs()` in this notebook? If this notebook was from another\n",
       "  user you must also trust this notebook (File -> Trust notebook). If you are viewing\n",
       "  this notebook on github the Javascript has been stripped for security. If you are using\n",
       "  JupyterLab this error is because a JupyterLab extension has not yet been written.\n",
       "</div></div>\n",
       " <script>\n",
       "   if (window.SHAP) SHAP.ReactDom.render(\n",
       "    SHAP.React.createElement(SHAP.AdditiveForceVisualizer, {\"outNames\": [\"f(x)\"], \"baseValue\": 1207083.15260387, \"outValue\": 1126798.4183402848, \"link\": \"identity\", \"featureNames\": [\"\\u0413\\u043e\\u0440\\u043e\\u0434\", \"\\u041c\\u043e\\u0434\\u0435\\u043b\\u044c\", \"\\u0413\\u043e\\u0434\", \"\\u041f\\u0440\\u043e\\u0431\\u0435\\u0433, \\u043a\\u043c\", \"\\u041f\\u043e\\u043a\\u043e\\u043b\\u0435\\u043d\\u0438\\u0435\", \"\\u041a\\u043e\\u043c\\u043f\\u043b\\u0435\\u043a\\u0442\\u0430\\u0446\\u0438\\u044f\", \"\\u0420\\u0435\\u0441\\u0442\\u0430\\u0439\\u043b\\u0438\\u043d\\u0433\", \"\\u041f\\u0440\\u043e\\u0431\\u043b\\u0435\\u043c\\u0430 \\u0441 \\u0434\\u043e\\u043a\\u0443\\u043c\\u0435\\u043d\\u0442\\u0430\\u043c\\u0438\", \"\\u0420\\u0435\\u043c\\u043e\\u043d\\u0442\", \"\\u041d\\u043e\\u0432\\u044b\\u0439 \\u0430\\u0432\\u0442\\u043e\\u043c\\u043e\\u0431\\u0438\\u043b\\u044c\", \"\\u041f\\u0440\\u043e\\u0431\\u0435\\u0433 \\u043f\\u043e \\u0420\\u0424\", \"\\u041a\\u043e\\u0440\\u043e\\u0431\\u043a\\u0430 \\u043f\\u0435\\u0440\\u0435\\u0434\\u0430\\u0447_\\u0410\\u041a\\u041f\\u041f\", \"\\u041a\\u043e\\u0440\\u043e\\u0431\\u043a\\u0430 \\u043f\\u0435\\u0440\\u0435\\u0434\\u0430\\u0447_\\u0430\\u0432\\u0442\\u043e\\u043c\\u0430\\u0442\", \"\\u041a\\u043e\\u0440\\u043e\\u0431\\u043a\\u0430 \\u043f\\u0435\\u0440\\u0435\\u0434\\u0430\\u0447_\\u0432\\u0430\\u0440\\u0438\\u0430\\u0442\\u043e\\u0440\", \"\\u041a\\u043e\\u0440\\u043e\\u0431\\u043a\\u0430 \\u043f\\u0435\\u0440\\u0435\\u0434\\u0430\\u0447_\\u043c\\u0435\\u0445\\u0430\\u043d\\u0438\\u043a\\u0430\", \"\\u041a\\u043e\\u0440\\u043e\\u0431\\u043a\\u0430 \\u043f\\u0435\\u0440\\u0435\\u0434\\u0430\\u0447_\\u043d\\u0435\\u0438\\u0437\\u0432\\u0435\\u0441\\u0442\\u043d\\u043e\", \"\\u041a\\u043e\\u0440\\u043e\\u0431\\u043a\\u0430 \\u043f\\u0435\\u0440\\u0435\\u0434\\u0430\\u0447_\\u0440\\u043e\\u0431\\u043e\\u0442\", \"\\u041f\\u0440\\u0438\\u0432\\u043e\\u0434_4WD\", \"\\u041f\\u0440\\u0438\\u0432\\u043e\\u0434_\\u0437\\u0430\\u0434\\u043d\\u0438\\u0439\", \"\\u041f\\u0440\\u0438\\u0432\\u043e\\u0434_\\u043d\\u0435\\u0438\\u0437\\u0432\\u0435\\u0441\\u0442\\u043d\\u043e\", \"\\u041f\\u0440\\u0438\\u0432\\u043e\\u0434_\\u043f\\u0435\\u0440\\u0435\\u0434\\u043d\\u0438\\u0439\", \"\\u0422\\u0438\\u043f \\u043a\\u0443\\u0437\\u043e\\u0432\\u0430_\\u043d\\u0435\\u0438\\u0437\\u0432\\u0435\\u0441\\u0442\\u043d\\u043e\", \"\\u0426\\u0432\\u0435\\u0442_\\u0431\\u0435\\u0436\\u0435\\u0432\\u044b\\u0439\", \"\\u0426\\u0432\\u0435\\u0442_\\u0431\\u0435\\u043b\\u044b\\u0439\", \"\\u0426\\u0432\\u0435\\u0442_\\u0431\\u043e\\u0440\\u0434\\u043e\\u0432\\u044b\\u0439\", \"\\u0426\\u0432\\u0435\\u0442_\\u0433\\u043e\\u043b\\u0443\\u0431\\u043e\\u0439\", \"\\u0426\\u0432\\u0435\\u0442_\\u0436\\u0435\\u043b\\u0442\\u044b\\u0439\", \"\\u0426\\u0432\\u0435\\u0442_\\u0437\\u0435\\u043b\\u0435\\u043d\\u044b\\u0439\", \"\\u0426\\u0432\\u0435\\u0442_\\u0437\\u043e\\u043b\\u043e\\u0442\\u0438\\u0441\\u0442\\u044b\\u0439\", \"\\u0426\\u0432\\u0435\\u0442_\\u043a\\u043e\\u0440\\u0438\\u0447\\u043d\\u0435\\u0432\\u044b\\u0439\", \"\\u0426\\u0432\\u0435\\u0442_\\u043a\\u0440\\u0430\\u0441\\u043d\\u044b\\u0439\", \"\\u0426\\u0432\\u0435\\u0442_\\u043d\\u0435\\u0438\\u0437\\u0432\\u0435\\u0441\\u0442\\u043d\\u043e\", \"\\u0426\\u0432\\u0435\\u0442_\\u043e\\u0440\\u0430\\u043d\\u0436\\u0435\\u0432\\u044b\\u0439\", \"\\u0426\\u0432\\u0435\\u0442_\\u0440\\u043e\\u0437\\u043e\\u0432\\u044b\\u0439\", \"\\u0426\\u0432\\u0435\\u0442_\\u0441\\u0435\\u0440\\u0435\\u0431\\u0440\\u0438\\u0441\\u0442\\u044b\\u0439\", \"\\u0426\\u0432\\u0435\\u0442_\\u0441\\u0435\\u0440\\u044b\\u0439\", \"\\u0426\\u0432\\u0435\\u0442_\\u0441\\u0438\\u043d\\u0438\\u0439\", \"\\u0426\\u0432\\u0435\\u0442_\\u0444\\u0438\\u043e\\u043b\\u0435\\u0442\\u043e\\u0432\\u044b\\u0439\", \"\\u0426\\u0432\\u0435\\u0442_\\u0447\\u0435\\u0440\\u043d\\u044b\\u0439\", \"\\u0420\\u0443\\u043b\\u044c_\\u043b\\u0435\\u0432\\u044b\\u0439\", \"\\u0420\\u0443\\u043b\\u044c_\\u043d\\u0435\\u0438\\u0437\\u0432\\u0435\\u0441\\u0442\\u043d\\u043e\", \"\\u0420\\u0443\\u043b\\u044c_\\u043f\\u0440\\u0430\\u0432\\u044b\\u0439\"], \"features\": {\"0\": {\"effect\": -4420.709732428202, \"value\": \"\\u041a\\u044b\\u0437\\u044b\\u043b\"}, \"1\": {\"effect\": 395702.71083225973, \"value\": \"Audi Q7\"}, \"2\": {\"effect\": -557348.2924927896, \"value\": 2008.0}, \"3\": {\"effect\": -124248.61198273253, \"value\": 265000.0}, \"4\": {\"effect\": -294651.55758891057, \"value\": 1.0}, \"5\": {\"effect\": -44012.37245568953, \"value\": \"4.2 FSI quattro tiptronic\"}, \"6\": {\"effect\": -3924.8633364592256, \"value\": 0.0}, \"9\": {\"effect\": 541.463276591176, \"value\": 0.0}, \"10\": {\"effect\": -90.01374942831147, \"value\": 0.0}, \"11\": {\"effect\": 35809.255246498375, \"value\": 1.0}, \"12\": {\"effect\": -886.4389975038413, \"value\": 0.0}, \"13\": {\"effect\": 13690.782369831739, \"value\": 0.0}, \"14\": {\"effect\": 83900.15813692914, \"value\": 0.0}, \"15\": {\"effect\": 192.98251367514945, \"value\": 0.0}, \"16\": {\"effect\": 1823.2110217254003, \"value\": 0.0}, \"17\": {\"effect\": 164462.32614166272, \"value\": 1.0}, \"18\": {\"effect\": 4847.253088486405, \"value\": 0.0}, \"19\": {\"effect\": 139.20682351201341, \"value\": 0.0}, \"20\": {\"effect\": 85284.62340478593, \"value\": 0.0}, \"22\": {\"effect\": 16.669205017456424, \"value\": 0.0}, \"23\": {\"effect\": 759.3412711604481, \"value\": 0.0}, \"24\": {\"effect\": 7.057974303667702, \"value\": 0.0}, \"25\": {\"effect\": -68.10955393162405, \"value\": 0.0}, \"26\": {\"effect\": 78.88565182923531, \"value\": 0.0}, \"27\": {\"effect\": 3916.001868038489, \"value\": 0.0}, \"28\": {\"effect\": 92.70633176185164, \"value\": 0.0}, \"29\": {\"effect\": -221.1507866798658, \"value\": 0.0}, \"30\": {\"effect\": 2005.717962266373, \"value\": 0.0}, \"31\": {\"effect\": -265.5162962124382, \"value\": 0.0}, \"32\": {\"effect\": 8.706592379474227, \"value\": 0.0}, \"33\": {\"effect\": -19.58592846477343, \"value\": 0.0}, \"34\": {\"effect\": 201.73806756547583, \"value\": 0.0}, \"35\": {\"effect\": 3244.0742736528246, \"value\": 0.0}, \"36\": {\"effect\": -118.93934403555912, \"value\": 0.0}, \"37\": {\"effect\": -167.44211545174528, \"value\": 0.0}, \"38\": {\"effect\": 127793.42082707836, \"value\": 1.0}, \"39\": {\"effect\": 20839.10371713123, \"value\": 1.0}, \"40\": {\"effect\": 3269.9328406671243, \"value\": 0.0}, \"41\": {\"effect\": 1531.5406583229608, \"value\": 0.0}}, \"plot_cmap\": \"RdBu\", \"labelMargin\": 20}),\n",
       "    document.getElementById('iUV9BJW6LGEMJF1B6ZJ39')\n",
       "  );\n",
       "</script>"
      ],
      "text/plain": [
       "<shap.plots._force.AdditiveForceVisualizer at 0x21b15e80>"
      ]
     },
     "execution_count": 63,
     "metadata": {},
     "output_type": "execute_result"
    }
   ],
   "source": [
    "shap.force_plot(explainer.expected_value, shap_values[0,:], X_train.iloc[0,:])"
   ]
  },
  {
   "cell_type": "code",
   "execution_count": 64,
   "metadata": {},
   "outputs": [
    {
     "data": {
      "image/png": "[encoded data removed]",
      "text/plain": [
       "<Figure size 576x684 with 1 Axes>"
      ]
     },
     "metadata": {
      "needs_background": "light"
     },
     "output_type": "display_data"
    }
   ],
   "source": [
    "shap.summary_plot(shap_values, X_train, plot_type=\"bar\")"
   ]
  },
  {
   "cell_type": "code",
   "execution_count": 65,
   "metadata": {},
   "outputs": [
    {
     "data": {
      "image/png": "[encoded data removed]",
      "text/plain": [
       "<Figure size 576x684 with 2 Axes>"
      ]
     },
     "metadata": {
      "needs_background": "light"
     },
     "output_type": "display_data"
    }
   ],
   "source": [
    "shap.summary_plot(shap_values, X_train)"
   ]
  }
 ],
 "metadata": {
  "kernelspec": {
   "display_name": "Python 3 (ipykernel)",
   "language": "python",
   "name": "python3"
  },
  "language_info": {
   "codemirror_mode": {
    "name": "ipython",
    "version": 3
   },
   "file_extension": ".py",
   "mimetype": "text/x-python",
   "name": "python",
   "nbconvert_exporter": "python",
   "pygments_lexer": "ipython3",
   "version": "3.8.5"
  }
 },
 "nbformat": 4,
 "nbformat_minor": 4
}
