{
 "cells": [
  {
   "cell_type": "code",
   "execution_count": 185,
   "id": "8e4f2c4b",
   "metadata": {},
   "outputs": [],
   "source": [
    "import pandas as pd\n",
    "import numpy as np\n",
    "import seaborn as sns\n",
    "import ast\n",
    "import re\n",
    "\n",
    "from sklearn.feature_extraction.text import TfidfVectorizer, CountVectorizer\n",
    "from sklearn.preprocessing import LabelEncoder"
   ]
  },
  {
   "cell_type": "code",
   "execution_count": 186,
   "id": "0eed534b",
   "metadata": {},
   "outputs": [
    {
     "name": "stdout",
     "output_type": "stream",
     "text": [
      "CPU times: total: 12.2 s\n",
      "Wall time: 12.6 s\n"
     ]
    }
   ],
   "source": [
    "%%time\n",
    "\n",
    "data = pd.read_csv('train_main.csv')"
   ]
  },
  {
   "cell_type": "code",
   "execution_count": 187,
   "id": "b6a923c0",
   "metadata": {},
   "outputs": [
    {
     "data": {
      "text/html": [
       "<div>\n",
       "<style scoped>\n",
       "    .dataframe tbody tr th:only-of-type {\n",
       "        vertical-align: middle;\n",
       "    }\n",
       "\n",
       "    .dataframe tbody tr th {\n",
       "        vertical-align: top;\n",
       "    }\n",
       "\n",
       "    .dataframe thead th {\n",
       "        text-align: right;\n",
       "    }\n",
       "</style>\n",
       "<table border=\"1\" class=\"dataframe\">\n",
       "  <thead>\n",
       "    <tr style=\"text-align: right;\">\n",
       "      <th></th>\n",
       "      <th>id_index</th>\n",
       "      <th>accept_handicapped</th>\n",
       "      <th>archived</th>\n",
       "      <th>response_letter_required</th>\n",
       "      <th>hidden</th>\n",
       "      <th>premium</th>\n",
       "      <th>allow_messages</th>\n",
       "      <th>name</th>\n",
       "      <th>employment_id</th>\n",
       "      <th>employer_name</th>\n",
       "      <th>...</th>\n",
       "      <th>specialization_id</th>\n",
       "      <th>specialization_profarea_name</th>\n",
       "      <th>specialization_profarea_id</th>\n",
       "      <th>specialization_name</th>\n",
       "      <th>line_name</th>\n",
       "      <th>station_id</th>\n",
       "      <th>line_id</th>\n",
       "      <th>lat</th>\n",
       "      <th>station_name</th>\n",
       "      <th>lng</th>\n",
       "    </tr>\n",
       "  </thead>\n",
       "  <tbody>\n",
       "    <tr>\n",
       "      <th>0</th>\n",
       "      <td>495</td>\n",
       "      <td>False</td>\n",
       "      <td>False</td>\n",
       "      <td>False</td>\n",
       "      <td>False</td>\n",
       "      <td>False</td>\n",
       "      <td>True</td>\n",
       "      <td>Специалист по продажам и обслуживанию (Таганская)</td>\n",
       "      <td>full</td>\n",
       "      <td>Билайн</td>\n",
       "      <td>...</td>\n",
       "      <td>{17.269,17.183}</td>\n",
       "      <td>{Продажи}</td>\n",
       "      <td>{17}</td>\n",
       "      <td>{\"Начальный уровень, Мало опыта\",\"Телекоммуник...</td>\n",
       "      <td>NaN</td>\n",
       "      <td>NaN</td>\n",
       "      <td>NaN</td>\n",
       "      <td>NaN</td>\n",
       "      <td>NaN</td>\n",
       "      <td>NaN</td>\n",
       "    </tr>\n",
       "    <tr>\n",
       "      <th>1</th>\n",
       "      <td>1</td>\n",
       "      <td>False</td>\n",
       "      <td>False</td>\n",
       "      <td>False</td>\n",
       "      <td>False</td>\n",
       "      <td>False</td>\n",
       "      <td>True</td>\n",
       "      <td>Заместитель начальника службы текущего и капит...</td>\n",
       "      <td>full</td>\n",
       "      <td>Нефтяная Акционерная Компания АКИ-ОТЫР</td>\n",
       "      <td>...</td>\n",
       "      <td>{10.191,10.80,2.44}</td>\n",
       "      <td>{\"Бухгалтерия, управленческий учет, финансы пр...</td>\n",
       "      <td>{2,10}</td>\n",
       "      <td>{Инженер,\"Бюджетирование и планирование\",Нефть}</td>\n",
       "      <td>NaN</td>\n",
       "      <td>NaN</td>\n",
       "      <td>NaN</td>\n",
       "      <td>NaN</td>\n",
       "      <td>NaN</td>\n",
       "      <td>NaN</td>\n",
       "    </tr>\n",
       "    <tr>\n",
       "      <th>2</th>\n",
       "      <td>2</td>\n",
       "      <td>False</td>\n",
       "      <td>False</td>\n",
       "      <td>False</td>\n",
       "      <td>False</td>\n",
       "      <td>False</td>\n",
       "      <td>True</td>\n",
       "      <td>Инженер по технадзору</td>\n",
       "      <td>full</td>\n",
       "      <td>СтеллаСтрой</td>\n",
       "      <td>...</td>\n",
       "      <td>{20.83}</td>\n",
       "      <td>{\"Строительство, недвижимость\"}</td>\n",
       "      <td>{20}</td>\n",
       "      <td>{Инженер}</td>\n",
       "      <td>NaN</td>\n",
       "      <td>NaN</td>\n",
       "      <td>NaN</td>\n",
       "      <td>NaN</td>\n",
       "      <td>NaN</td>\n",
       "      <td>NaN</td>\n",
       "    </tr>\n",
       "    <tr>\n",
       "      <th>3</th>\n",
       "      <td>3</td>\n",
       "      <td>False</td>\n",
       "      <td>False</td>\n",
       "      <td>False</td>\n",
       "      <td>False</td>\n",
       "      <td>False</td>\n",
       "      <td>True</td>\n",
       "      <td>Системный администратор</td>\n",
       "      <td>full</td>\n",
       "      <td>Казанский жировой комбинат</td>\n",
       "      <td>...</td>\n",
       "      <td>{1.273}</td>\n",
       "      <td>{\"Информационные технологии, интернет, телеком\"}</td>\n",
       "      <td>{1}</td>\n",
       "      <td>{\"Системный администратор\"}</td>\n",
       "      <td>NaN</td>\n",
       "      <td>NaN</td>\n",
       "      <td>NaN</td>\n",
       "      <td>NaN</td>\n",
       "      <td>NaN</td>\n",
       "      <td>NaN</td>\n",
       "    </tr>\n",
       "    <tr>\n",
       "      <th>4</th>\n",
       "      <td>15</td>\n",
       "      <td>False</td>\n",
       "      <td>False</td>\n",
       "      <td>False</td>\n",
       "      <td>False</td>\n",
       "      <td>False</td>\n",
       "      <td>True</td>\n",
       "      <td>Менеджер по продажам</td>\n",
       "      <td>full</td>\n",
       "      <td>РенКапСтрой</td>\n",
       "      <td>...</td>\n",
       "      <td>{17.242,20.189,20.375,20.70}</td>\n",
       "      <td>{Продажи,\"Строительство, недвижимость\"}</td>\n",
       "      <td>{20,17}</td>\n",
       "      <td>{\"Прямые продажи\",Девелопер,\"Нежилые помещения...</td>\n",
       "      <td>NaN</td>\n",
       "      <td>NaN</td>\n",
       "      <td>NaN</td>\n",
       "      <td>NaN</td>\n",
       "      <td>NaN</td>\n",
       "      <td>NaN</td>\n",
       "    </tr>\n",
       "  </tbody>\n",
       "</table>\n",
       "<p>5 rows × 43 columns</p>\n",
       "</div>"
      ],
      "text/plain": [
       "   id_index  accept_handicapped  archived  response_letter_required  hidden  \\\n",
       "0       495               False     False                     False   False   \n",
       "1         1               False     False                     False   False   \n",
       "2         2               False     False                     False   False   \n",
       "3         3               False     False                     False   False   \n",
       "4        15               False     False                     False   False   \n",
       "\n",
       "   premium  allow_messages                                               name  \\\n",
       "0    False            True  Специалист по продажам и обслуживанию (Таганская)   \n",
       "1    False            True  Заместитель начальника службы текущего и капит...   \n",
       "2    False            True                              Инженер по технадзору   \n",
       "3    False            True                            Системный администратор   \n",
       "4    False            True                               Менеджер по продажам   \n",
       "\n",
       "  employment_id                           employer_name  ...  \\\n",
       "0          full                                  Билайн  ...   \n",
       "1          full  Нефтяная Акционерная Компания АКИ-ОТЫР  ...   \n",
       "2          full                             СтеллаСтрой  ...   \n",
       "3          full              Казанский жировой комбинат  ...   \n",
       "4          full                             РенКапСтрой  ...   \n",
       "\n",
       "              specialization_id  \\\n",
       "0               {17.269,17.183}   \n",
       "1           {10.191,10.80,2.44}   \n",
       "2                       {20.83}   \n",
       "3                       {1.273}   \n",
       "4  {17.242,20.189,20.375,20.70}   \n",
       "\n",
       "                        specialization_profarea_name  \\\n",
       "0                                          {Продажи}   \n",
       "1  {\"Бухгалтерия, управленческий учет, финансы пр...   \n",
       "2                    {\"Строительство, недвижимость\"}   \n",
       "3   {\"Информационные технологии, интернет, телеком\"}   \n",
       "4            {Продажи,\"Строительство, недвижимость\"}   \n",
       "\n",
       "  specialization_profarea_id  \\\n",
       "0                       {17}   \n",
       "1                     {2,10}   \n",
       "2                       {20}   \n",
       "3                        {1}   \n",
       "4                    {20,17}   \n",
       "\n",
       "                                 specialization_name  line_name  station_id  \\\n",
       "0  {\"Начальный уровень, Мало опыта\",\"Телекоммуник...        NaN         NaN   \n",
       "1    {Инженер,\"Бюджетирование и планирование\",Нефть}        NaN         NaN   \n",
       "2                                          {Инженер}        NaN         NaN   \n",
       "3                        {\"Системный администратор\"}        NaN         NaN   \n",
       "4  {\"Прямые продажи\",Девелопер,\"Нежилые помещения...        NaN         NaN   \n",
       "\n",
       "  line_id  lat station_name lng  \n",
       "0     NaN  NaN          NaN NaN  \n",
       "1     NaN  NaN          NaN NaN  \n",
       "2     NaN  NaN          NaN NaN  \n",
       "3     NaN  NaN          NaN NaN  \n",
       "4     NaN  NaN          NaN NaN  \n",
       "\n",
       "[5 rows x 43 columns]"
      ]
     },
     "execution_count": 187,
     "metadata": {},
     "output_type": "execute_result"
    }
   ],
   "source": [
    "data.head()"
   ]
  },
  {
   "cell_type": "code",
   "execution_count": 188,
   "id": "64e0f750",
   "metadata": {},
   "outputs": [
    {
     "name": "stdout",
     "output_type": "stream",
     "text": [
      "<class 'pandas.core.frame.DataFrame'>\n",
      "RangeIndex: 696698 entries, 0 to 696697\n",
      "Data columns (total 43 columns):\n",
      " #   Column                        Non-Null Count   Dtype  \n",
      "---  ------                        --------------   -----  \n",
      " 0   id_index                      696698 non-null  int64  \n",
      " 1   accept_handicapped            696698 non-null  bool   \n",
      " 2   archived                      696698 non-null  bool   \n",
      " 3   response_letter_required      696698 non-null  bool   \n",
      " 4   hidden                        696698 non-null  bool   \n",
      " 5   premium                       696698 non-null  bool   \n",
      " 6   allow_messages                696698 non-null  bool   \n",
      " 7   name                          696698 non-null  object \n",
      " 8   employment_id                 696698 non-null  object \n",
      " 9   employer_name                 696696 non-null  object \n",
      " 10  employer_id                   695718 non-null  float64\n",
      " 11  billing_type_id               696698 non-null  object \n",
      " 12  type_id                       696698 non-null  object \n",
      " 13  schedule_id                   696698 non-null  object \n",
      " 14  salary_to                     390960 non-null  float64\n",
      " 15  salary_from                   646085 non-null  float64\n",
      " 16  salary_currency               696698 non-null  object \n",
      " 17  area_id                       696698 non-null  int64  \n",
      " 18  area_name                     696698 non-null  object \n",
      " 19  experience_id                 696698 non-null  object \n",
      " 20  address_city                  208779 non-null  object \n",
      " 21  address_street                195786 non-null  object \n",
      " 22  address_lat                   215225 non-null  float64\n",
      " 23  address_lng                   215225 non-null  float64\n",
      " 24  address_metro_line_name       92178 non-null   object \n",
      " 25  address_metro_station_id      92178 non-null   float64\n",
      " 26  address_metro_line_id         92178 non-null   float64\n",
      " 27  address_metro_lat             92178 non-null   float64\n",
      " 28  address_metro_station_name    92178 non-null   object \n",
      " 29  address_metro_lng             92178 non-null   float64\n",
      " 30  test_required                 696698 non-null  bool   \n",
      " 31  department_name               24283 non-null   object \n",
      " 32  key_skills_list               30712 non-null   object \n",
      " 33  specialization_id             696698 non-null  object \n",
      " 34  specialization_profarea_name  696698 non-null  object \n",
      " 35  specialization_profarea_id    696698 non-null  object \n",
      " 36  specialization_name           696698 non-null  object \n",
      " 37  line_name                     92178 non-null   object \n",
      " 38  station_id                    92178 non-null   float64\n",
      " 39  line_id                       92178 non-null   float64\n",
      " 40  lat                           92178 non-null   float64\n",
      " 41  station_name                  92178 non-null   object \n",
      " 42  lng                           92178 non-null   float64\n",
      "dtypes: bool(7), float64(13), int64(2), object(21)\n",
      "memory usage: 196.0+ MB\n"
     ]
    }
   ],
   "source": [
    "data.info()"
   ]
  },
  {
   "cell_type": "code",
   "execution_count": 189,
   "id": "3cc8ab04",
   "metadata": {},
   "outputs": [
    {
     "name": "stdout",
     "output_type": "stream",
     "text": [
      "name, плохих значений 109263\n",
      "employer_name, плохих значений 12204\n",
      "area_name, плохих значений 15164\n",
      "address_city, плохих значений 100\n",
      "address_street, плохих значений 369\n",
      "address_metro_station_name, плохих значений 89\n",
      "department_name, плохих значений 373\n",
      "key_skills_list, плохих значений 30712\n",
      "specialization_id, плохих значений 696698\n",
      "specialization_profarea_name, плохих значений 696698\n",
      "specialization_profarea_id, плохих значений 696698\n",
      "specialization_name, плохих значений 696698\n",
      "station_name, плохих значений 89\n"
     ]
    }
   ],
   "source": [
    "#Не содержатся ли в данных какие-то символы, которые могли остаться при парсинге\n",
    "\n",
    "def find_substring(values):\n",
    "    values = str(values)\n",
    "    #extensionsToCheck = [\"[\", \"]\", \"{\", \"}\",'<','>','/']\n",
    "    extensionsToCheck = [\"[\", \"]\", \"{\", \"}\",\"(\",\")\"]\n",
    "    if any(ext in values for ext in extensionsToCheck):\n",
    "        return True\n",
    "    else:\n",
    "        return False\n",
    "\n",
    "bad_col = []    \n",
    "    \n",
    "for column in data.columns:\n",
    "    cnt = data[column].apply(find_substring).sum()\n",
    "    if cnt>0:\n",
    "        bad_col.append(column)\n",
    "        print(\"{}, плохих значений {}\".format(column,cnt))"
   ]
  },
  {
   "cell_type": "code",
   "execution_count": 190,
   "id": "1b856451",
   "metadata": {},
   "outputs": [
    {
     "name": "stdout",
     "output_type": "stream",
     "text": [
      "name:\n",
      "Специалист по продажам и обслуживанию (Таганская)\n",
      "Продавец - консультант (г. Балашиха)\n",
      "Старший менеджер по товару (старший кладовщик) ТЦ \"ГОРОДОК\"\n",
      "Продавец в салон связи (м. Новогиреево)\n",
      "Продавец-консультант (м. Печатники)\n",
      "Промоутер консультант/ продавец консультант бытовой техники\n",
      "---------------------------------------------\n",
      "employer_name:\n",
      "Мобильные ТелеСистемы (МТС)\n",
      "Мобильные ТелеСистемы (МТС)\n",
      "FINN FLARE (Алтын Самрук, ТОО)\n",
      "Мобильные ТелеСистемы (МТС)\n",
      "Мобильные ТелеСистемы (МТС)\n",
      "Мобильные ТелеСистемы (МТС)\n",
      "---------------------------------------------\n",
      "area_name:\n",
      "Иваново (Ивановская область)\n",
      "Иваново (Ивановская область)\n",
      "Фокино (Приморский край)\n",
      "Аксай (Ростовская область)\n",
      "Благовещенск (Амурская область)\n",
      "Арысь (ЮКО)\n",
      "---------------------------------------------\n",
      "address_city:\n",
      "д. Рубежевичи (Столбцовский р-н)\n",
      "д. Рубежевичи (Столбцовский р-н)\n",
      "д. Рубежевичи (Столбцовский р-н)\n",
      "д. Рубежевичи (Столбцовский р-н)\n",
      "д. Рубежевичи (Столбцовский р-н)\n",
      "Дзержинск (Нижегородская область)\n",
      "---------------------------------------------\n",
      "address_street:\n",
      "микрорайон Юго-Восток (правая сторона)\n",
      "микрорайон Юго-Восток (правая сторона)\n",
      "Скотопрогонная улица (Москва)\n",
      "Стахановская улица (Москва)\n",
      "Смирновская улица (Москва)\n",
      "Смирновская улица (Москва)\n",
      "---------------------------------------------\n",
      "address_metro_station_name:\n",
      "Яшьлек (Юность)\n",
      "Яшьлек (Юность)\n",
      "Яшьлек (Юность)\n",
      "Яшьлек (Юность)\n",
      "Яшьлек (Юность)\n",
      "Яшьлек (Юность)\n",
      "---------------------------------------------\n",
      "department_name:\n",
      "«Роза Хутор (г. Сочи)»\n",
      "Тануки / ЕРШ, Группа ресторанов - Офис\n",
      "«Роза Хутор (г. Сочи)»\n",
      "«Роза Хутор (г. Сочи)»\n",
      "Тануки / ЕРШ, Группа ресторанов - Офис\n",
      "Тануки / ЕРШ, Группа ресторанов - Офис\n",
      "---------------------------------------------\n",
      "key_skills_list:\n",
      "{\"умение продавать\"}\n",
      "{\"Аренда недвижимости\",\"Аренда офисных помещений\",\"Аренда помещений\",\"продажа недвижимости\"}\n",
      "{\"Электрические сети\",\"Инженерные системы\",\"Разработка проектной документации\",\"слаботочные системы\",\"нормативно-техническая документация\",Компас-3D,Проектирование,производство}\n",
      "{\"Холодные звонки\",Коммуникабельность,Целеустремленность,\"Phone Calls\"}\n",
      "{Инкотермс,ВЭД,\"Английский язык\",\"Международные перевозки\",\"Активные продажи\"}\n",
      "{\"Современная розница\",\"работа с текущей базой клиентов\"}\n",
      "---------------------------------------------\n",
      "specialization_id:\n",
      "{17.269,17.183}\n",
      "{10.191,10.80,2.44}\n",
      "{20.83}\n",
      "{1.273}\n",
      "{17.242,20.189,20.375,20.70}\n",
      "{2.344,2.425,5.426}\n",
      "---------------------------------------------\n",
      "specialization_profarea_name:\n",
      "{Продажи}\n",
      "{\"Бухгалтерия, управленческий учет, финансы предприятия\",\"Добыча сырья\"}\n",
      "{\"Строительство, недвижимость\"}\n",
      "{\"Информационные технологии, интернет, телеком\"}\n",
      "{Продажи,\"Строительство, недвижимость\"}\n",
      "{\"Бухгалтерия, управленческий учет, финансы предприятия\",\"Банки, инвестиции, лизинг\"}\n",
      "---------------------------------------------\n",
      "specialization_profarea_id:\n",
      "{17}\n",
      "{2,10}\n",
      "{20}\n",
      "{1}\n",
      "{20,17}\n",
      "{5,2}\n",
      "---------------------------------------------\n",
      "specialization_name:\n",
      "{\"Начальный уровень, Мало опыта\",\"Телекоммуникации, Сетевые решения\"}\n",
      "{Инженер,\"Бюджетирование и планирование\",Нефть}\n",
      "{Инженер}\n",
      "{\"Системный администратор\"}\n",
      "{\"Прямые продажи\",Девелопер,\"Нежилые помещения\",Жилье}\n",
      "{\"Финансовый менеджмент\",Экономист}\n",
      "---------------------------------------------\n",
      "station_name:\n",
      "Яшьлек (Юность)\n",
      "Яшьлек (Юность)\n",
      "Яшьлек (Юность)\n",
      "Яшьлек (Юность)\n",
      "Яшьлек (Юность)\n",
      "Яшьлек (Юность)\n",
      "---------------------------------------------\n"
     ]
    }
   ],
   "source": [
    "extensionsToCheck = [\"[\", \"]\", \"{\", \"}\",\"_\",'<','>','/',\"(\",\")\"]\n",
    "for col in bad_col:\n",
    "    cnt = 0\n",
    "    print(col+':')\n",
    "    for i in data[col]:\n",
    "        try:\n",
    "            if any(ext in i for ext in extensionsToCheck):\n",
    "                cnt +=1\n",
    "                print(i)\n",
    "            if cnt>5:\n",
    "                print('---------------------------------------------')\n",
    "                break\n",
    "        except:\n",
    "            continue"
   ]
  },
  {
   "cell_type": "code",
   "execution_count": 191,
   "id": "9b90faa7",
   "metadata": {},
   "outputs": [],
   "source": [
    "text_columns = [\n",
    "    'address_city',\n",
    "    'address_street',\n",
    "    'area_name',\n",
    "    'line_name',\n",
    "    'station_name',\n",
    "    'address_metro_line_name',\n",
    "    'address_metro_station_name'\n",
    "]\n",
    "\n",
    "lists_columns = [\n",
    "    'specialization_id',\n",
    "    'specialization_profarea_name',\n",
    "    'specialization_profarea_id',\n",
    "    'specialization_name'\n",
    "]\n",
    "\n",
    "categorial_columns = [\n",
    "    'employment_id', #['full' 'part' 'project' 'probation']\n",
    "    'billing_type_id',#['free' 'standard_plus' 'standard' 'premium']\n",
    "    'type_id',#['open' 'anonymous']\n",
    "    'schedule_id',#['fullDay' 'flexible' 'shift' 'remote' 'flyInFlyOut']\n",
    "    'salary_currency',#['RUR' 'BYR' 'UAH' 'KZT' 'USD' 'AZN' 'UZS' 'EUR' 'KGS']\n",
    "    'experience_id',#['between3And6' 'between1And3' 'noExperience' 'moreThan6']\n",
    "]"
   ]
  },
  {
   "cell_type": "code",
   "execution_count": 192,
   "id": "a0871212",
   "metadata": {},
   "outputs": [],
   "source": [
    "###Попробуем заменить пропущенные значения в целевых переменных на основе среднего значения по столбцам - отрасли, опыта работы и графика"
   ]
  },
  {
   "cell_type": "code",
   "execution_count": 193,
   "id": "88563722",
   "metadata": {},
   "outputs": [
    {
     "name": "stdout",
     "output_type": "stream",
     "text": [
      "7.264697185868195\n",
      "43.88386359656551\n",
      "0.0\n"
     ]
    }
   ],
   "source": [
    "print(data[data['salary_from'].isna()].shape[0]/data.shape[0]*100)\n",
    "print(data[data['salary_to'].isna()].shape[0]/data.shape[0]*100)\n",
    "print(data[(data['salary_from'].isna()) & (data['salary_to'].isna())].shape[0]/data.shape[0]*100)"
   ]
  },
  {
   "cell_type": "code",
   "execution_count": 194,
   "id": "2a18f43b",
   "metadata": {},
   "outputs": [],
   "source": [
    "# def get_first_profarea_name(value):\n",
    "#     value = value.replace('{','').replace('}','').replace('\"','')\n",
    "#     try:\n",
    "#         values = value.split(',')\n",
    "#         return values[0]\n",
    "#     except:\n",
    "#         return value\n",
    "    \n",
    "# data['first_profarea_name'] = data.specialization_profarea_name.apply(get_first_profarea_name)\n",
    "# group_col = ['first_profarea_name','experience_id','schedule_id','area_name']\n",
    "# data['salary_from'] =  data.groupby(group_col, sort=False)['salary_from'].apply(lambda x: x.fillna(x.mean()))\n",
    "# data['salary_to'] =  data.groupby(group_col, sort=False)['salary_to'].apply(lambda x: x.fillna(x.mean()))\n",
    "# data[data.salary_from>data.salary_to][['salary_from','salary_to']]"
   ]
  },
  {
   "cell_type": "code",
   "execution_count": 195,
   "id": "3d0c5629",
   "metadata": {},
   "outputs": [
    {
     "name": "stdout",
     "output_type": "stream",
     "text": [
      "id_index - 0%\n",
      "accept_handicapped - 0%\n",
      "archived - 0%\n",
      "response_letter_required - 0%\n",
      "hidden - 0%\n",
      "premium - 0%\n",
      "allow_messages - 0%\n",
      "name - 0%\n",
      "employment_id - 0%\n",
      "employer_name - 0%\n",
      "employer_id - 0%\n",
      "billing_type_id - 0%\n",
      "type_id - 0%\n",
      "schedule_id - 0%\n",
      "salary_to - 44%\n",
      "salary_from - 7%\n",
      "salary_currency - 0%\n",
      "area_id - 0%\n",
      "area_name - 0%\n",
      "experience_id - 0%\n",
      "address_city - 70%\n",
      "address_street - 72%\n",
      "address_lat - 69%\n",
      "address_lng - 69%\n",
      "address_metro_line_name - 87%\n",
      "address_metro_station_id - 87%\n",
      "address_metro_line_id - 87%\n",
      "address_metro_lat - 87%\n",
      "address_metro_station_name - 87%\n",
      "address_metro_lng - 87%\n",
      "test_required - 0%\n",
      "department_name - 97%\n",
      "key_skills_list - 96%\n",
      "specialization_id - 0%\n",
      "specialization_profarea_name - 0%\n",
      "specialization_profarea_id - 0%\n",
      "specialization_name - 0%\n",
      "line_name - 87%\n",
      "station_id - 87%\n",
      "line_id - 87%\n",
      "lat - 87%\n",
      "station_name - 87%\n",
      "lng - 87%\n"
     ]
    },
    {
     "data": {
      "image/png": "[encoded data removed]",
      "text/plain": [
       "<Figure size 432x288 with 2 Axes>"
      ]
     },
     "metadata": {
      "needs_background": "light"
     },
     "output_type": "display_data"
    }
   ],
   "source": [
    "colours = ['#000099', '#ffff00'] \n",
    "sns.heatmap(data.isnull(), cmap=sns.color_palette(colours))\n",
    "\n",
    "for col in data.columns:\n",
    "    pct_missing = np.mean(data[col].isnull())\n",
    "    print('{} - {}%'.format(col, round(pct_missing*100)))"
   ]
  },
  {
   "cell_type": "code",
   "execution_count": 196,
   "id": "390c0333",
   "metadata": {},
   "outputs": [],
   "source": [
    "data = pd.get_dummies(data, columns=categorial_columns)"
   ]
  },
  {
   "cell_type": "code",
   "execution_count": 197,
   "id": "9b15c1b3",
   "metadata": {},
   "outputs": [],
   "source": [
    "labelencoder = LabelEncoder()"
   ]
  },
  {
   "cell_type": "code",
   "execution_count": 198,
   "id": "4154ed83",
   "metadata": {},
   "outputs": [],
   "source": [
    "data[text_columns] = data[text_columns].apply(LabelEncoder().fit_transform)"
   ]
  },
  {
   "cell_type": "code",
   "execution_count": 199,
   "id": "d2ab59e1",
   "metadata": {},
   "outputs": [],
   "source": [
    "data = data.drop(['department_name','key_skills_list'], axis=1)"
   ]
  },
  {
   "cell_type": "code",
   "execution_count": 200,
   "id": "e59b2dba",
   "metadata": {},
   "outputs": [],
   "source": [
    "# all_item = np.array([])\n",
    "# for item in data.specialization_id:\n",
    "#     item_list = list(ast.literal_eval(item))\n",
    "#     all_item = np.append(all_item, item_list)\n",
    "        \n",
    "# unique, counts = np.unique(all_skills, return_counts=True)\n",
    "# counts.sum()"
   ]
  },
  {
   "cell_type": "code",
   "execution_count": 201,
   "id": "ffc3a488",
   "metadata": {},
   "outputs": [
    {
     "name": "stdout",
     "output_type": "stream",
     "text": [
      "Столбец: address_city, уникальных элементов:2091\n",
      "Столбец: address_street, уникальных элементов:12272\n",
      "Столбец: area_name, уникальных элементов:1692\n",
      "Столбец: line_name, уникальных элементов:33\n",
      "Столбец: station_name, уникальных элементов:366\n",
      "Столбец: address_metro_line_name, уникальных элементов:33\n",
      "Столбец: address_metro_station_name, уникальных элементов:366\n"
     ]
    }
   ],
   "source": [
    "for i in data[text_columns].columns:\n",
    "    cnt = data[i].nunique()\n",
    "    print(\"Столбец: {}, уникальных элементов:{}\".format(i,cnt))"
   ]
  },
  {
   "cell_type": "code",
   "execution_count": 202,
   "id": "c6434be4",
   "metadata": {},
   "outputs": [
    {
     "name": "stdout",
     "output_type": "stream",
     "text": [
      "104295\n"
     ]
    }
   ],
   "source": [
    "def name_clear(value):\n",
    "    try:\n",
    "        value = re.sub(r'\\([^)]*\\)', '', value)\n",
    "        value = \"\".join(value.rstrip())\n",
    "        return value\n",
    "    except:\n",
    "        return np.nan\n",
    "    \n",
    "data.name = data.name.apply(name_clear)\n",
    "print(data.name.nunique())"
   ]
  },
  {
   "cell_type": "code",
   "execution_count": 203,
   "id": "f461b41f",
   "metadata": {},
   "outputs": [],
   "source": [
    "def spec_name_to_string(value):\n",
    "    try:\n",
    "        value = str(value).replace('{', '').replace('}', '').replace('\"', '')\n",
    "        return value\n",
    "    except:\n",
    "        print(value)\n",
    "\n",
    "for column_with_lists in lists_columns: \n",
    "    data[column_with_lists] = data[column_with_lists].apply(spec_name_to_string)"
   ]
  },
  {
   "cell_type": "code",
   "execution_count": 204,
   "id": "cd69c337",
   "metadata": {},
   "outputs": [],
   "source": [
    "#https://www.kaggle.com/code/sudalairajkumar/simple-feature-engg-notebook-spooky-author/notebook"
   ]
  },
  {
   "cell_type": "code",
   "execution_count": 205,
   "id": "1b03b569",
   "metadata": {},
   "outputs": [],
   "source": [
    "# for string in data.name:\n",
    "#     for symb in string:\n",
    "#         if not symb.isalpha() and not symb.isspace():\n",
    "#             print(string)"
   ]
  },
  {
   "cell_type": "code",
   "execution_count": 206,
   "id": "fb907611",
   "metadata": {},
   "outputs": [],
   "source": [
    "data.to_csv('data_atfer_prepr.csv')"
   ]
  },
  {
   "cell_type": "code",
   "execution_count": null,
   "id": "5a900fd3",
   "metadata": {},
   "outputs": [],
   "source": [
    "data = pd.read_csv('data_atfer_prepr.csv')"
   ]
  },
  {
   "cell_type": "code",
   "execution_count": null,
   "id": "6b420d58",
   "metadata": {},
   "outputs": [],
   "source": []
  },
  {
   "cell_type": "code",
   "execution_count": null,
   "id": "950b7526",
   "metadata": {},
   "outputs": [],
   "source": []
  },
  {
   "cell_type": "code",
   "execution_count": null,
   "id": "29d7b800",
   "metadata": {},
   "outputs": [],
   "source": []
  },
  {
   "cell_type": "code",
   "execution_count": null,
   "id": "61ea9b26",
   "metadata": {},
   "outputs": [],
   "source": []
  },
  {
   "cell_type": "code",
   "execution_count": null,
   "id": "d3b2662a",
   "metadata": {},
   "outputs": [],
   "source": []
  },
  {
   "cell_type": "code",
   "execution_count": 45,
   "id": "9e280999",
   "metadata": {},
   "outputs": [],
   "source": []
  },
  {
   "cell_type": "code",
   "execution_count": null,
   "id": "3885abd1",
   "metadata": {},
   "outputs": [],
   "source": []
  },
  {
   "cell_type": "code",
   "execution_count": null,
   "id": "73ef400f",
   "metadata": {},
   "outputs": [],
   "source": []
  },
  {
   "cell_type": "code",
   "execution_count": null,
   "id": "7cf3d550",
   "metadata": {},
   "outputs": [],
   "source": []
  },
  {
   "cell_type": "code",
   "execution_count": 79,
   "id": "50cf6e3b",
   "metadata": {},
   "outputs": [],
   "source": [
    "tfidf_vec = TfidfVectorizer(ngram_range=(1,3))"
   ]
  },
  {
   "cell_type": "code",
   "execution_count": 81,
   "id": "eb3d6a79",
   "metadata": {},
   "outputs": [],
   "source": [
    "full_tfidf = tfidf_vec.fit_transform(specialization_name['specialization_name_string'].values.tolist())"
   ]
  },
  {
   "cell_type": "code",
   "execution_count": 82,
   "id": "2481b97d",
   "metadata": {},
   "outputs": [
    {
     "data": {
      "text/plain": [
       "<696698x2280 sparse matrix of type '<class 'numpy.float64'>'\n",
       "\twith 4842021 stored elements in Compressed Sparse Row format>"
      ]
     },
     "execution_count": 82,
     "metadata": {},
     "output_type": "execute_result"
    }
   ],
   "source": [
    "sp_string_name = tfidf_vec.transform(train_df['text'].values.tolist())"
   ]
  },
  {
   "cell_type": "code",
   "execution_count": 84,
   "id": "e7e6abea",
   "metadata": {},
   "outputs": [
    {
     "data": {
      "text/plain": [
       "<1x2280 sparse matrix of type '<class 'numpy.float64'>'\n",
       "\twith 1 stored elements in Compressed Sparse Row format>"
      ]
     },
     "execution_count": 84,
     "metadata": {},
     "output_type": "execute_result"
    }
   ],
   "source": [
    "full_tfidf[0]"
   ]
  },
  {
   "cell_type": "code",
   "execution_count": 88,
   "id": "d15d5838",
   "metadata": {},
   "outputs": [
    {
     "data": {
      "text/plain": [
       "['name',\n",
       " 'employer_name',\n",
       " 'area_name',\n",
       " 'address_city',\n",
       " 'address_street',\n",
       " 'address_metro_line_name',\n",
       " 'address_metro_station_name',\n",
       " 'specialization_id',\n",
       " 'specialization_profarea_name',\n",
       " 'specialization_profarea_id',\n",
       " 'specialization_name',\n",
       " 'line_name',\n",
       " 'station_name']"
      ]
     },
     "execution_count": 88,
     "metadata": {},
     "output_type": "execute_result"
    }
   ],
   "source": [
    "data.select_dtypes(include=['object']).columns.tolist()"
   ]
  },
  {
   "cell_type": "code",
   "execution_count": 61,
   "id": "55d59537",
   "metadata": {},
   "outputs": [
    {
     "data": {
      "text/plain": [
       "0         {\"Начальный уровень, Мало опыта\",\"Телекоммуник...\n",
       "1           {Инженер,\"Бюджетирование и планирование\",Нефть}\n",
       "2                                                 {Инженер}\n",
       "3                               {\"Системный администратор\"}\n",
       "4         {\"Прямые продажи\",Девелопер,\"Нежилые помещения...\n",
       "                                ...                        \n",
       "696693                          {\"Системный администратор\"}\n",
       "696694                         {\"Руководство бухгалтерией\"}\n",
       "696695    {\"Системный администратор\",\"Поддержка, Helpdes...\n",
       "696696    {\"Торговый представитель\",Дистрибуция,\"Начальн...\n",
       "696697                                     {Машиностроение}\n",
       "Name: specialization_name, Length: 696698, dtype: object"
      ]
     },
     "execution_count": 61,
     "metadata": {},
     "output_type": "execute_result"
    }
   ],
   "source": [
    "specialization_name"
   ]
  },
  {
   "cell_type": "code",
   "execution_count": 104,
   "id": "5dea390c",
   "metadata": {},
   "outputs": [
    {
     "data": {
      "text/plain": [
       "Index(['id_index', 'accept_handicapped', 'archived',\n",
       "       'response_letter_required', 'hidden', 'premium', 'allow_messages',\n",
       "       'name', 'employer_name', 'employer_id', 'salary_to', 'salary_from',\n",
       "       'area_id', 'area_name', 'address_city', 'address_street', 'address_lat',\n",
       "       'address_lng', 'address_metro_line_name', 'address_metro_station_id',\n",
       "       'address_metro_line_id', 'address_metro_lat',\n",
       "       'address_metro_station_name', 'address_metro_lng', 'test_required',\n",
       "       'specialization_id', 'specialization_profarea_name',\n",
       "       'specialization_profarea_id', 'specialization_name', 'line_name',\n",
       "       'station_id', 'line_id', 'lat', 'station_name', 'lng',\n",
       "       'employment_id_full', 'employment_id_part', 'employment_id_probation',\n",
       "       'employment_id_project', 'employment_id_volunteer',\n",
       "       'billing_type_id_free', 'billing_type_id_premium',\n",
       "       'billing_type_id_standard', 'billing_type_id_standard_plus',\n",
       "       'type_id_anonymous', 'type_id_direct', 'type_id_open',\n",
       "       'schedule_id_flexible', 'schedule_id_flyInFlyOut',\n",
       "       'schedule_id_fullDay', 'schedule_id_remote', 'schedule_id_shift',\n",
       "       'salary_currency_AZN', 'salary_currency_BYR', 'salary_currency_EUR',\n",
       "       'salary_currency_GEL', 'salary_currency_KGS', 'salary_currency_KZT',\n",
       "       'salary_currency_RUR', 'salary_currency_UAH', 'salary_currency_USD',\n",
       "       'salary_currency_UZS', 'experience_id_between1And3',\n",
       "       'experience_id_between3And6', 'experience_id_moreThan6',\n",
       "       'experience_id_noExperience'],\n",
       "      dtype='object')"
      ]
     },
     "execution_count": 104,
     "metadata": {},
     "output_type": "execute_result"
    }
   ],
   "source": [
    "data.columns"
   ]
  },
  {
   "cell_type": "code",
   "execution_count": null,
   "id": "975a8c20",
   "metadata": {},
   "outputs": [],
   "source": []
  },
  {
   "cell_type": "code",
   "execution_count": 87,
   "id": "d43d3363",
   "metadata": {},
   "outputs": [
    {
     "data": {
      "text/plain": [
       "id_index                      int64\n",
       "accept_handicapped             bool\n",
       "archived                       bool\n",
       "response_letter_required       bool\n",
       "hidden                         bool\n",
       "                              ...  \n",
       "salary_currency_UZS           uint8\n",
       "experience_id_between1And3    uint8\n",
       "experience_id_between3And6    uint8\n",
       "experience_id_moreThan6       uint8\n",
       "experience_id_noExperience    uint8\n",
       "Length: 66, dtype: object"
      ]
     },
     "execution_count": 87,
     "metadata": {},
     "output_type": "execute_result"
    }
   ],
   "source": [
    "data.dtypes"
   ]
  },
  {
   "cell_type": "code",
   "execution_count": null,
   "id": "9b7b0ce4",
   "metadata": {},
   "outputs": [],
   "source": [
    "columns_to_ = ['address_city',\n",
    "               'address_street',\n",
    "               'area_name',\n",
    "               'line_name',\n",
    "               'station_name',\n",
    "               'address_metro_line_name',\n",
    "               'address_metro_station_name'\n",
    "              ]\n",
    "\n",
    "columns_to_ = [\n",
    "    'specialization_id',\n",
    "    'specialization_profarea_name',\n",
    "    'specialization_profarea_id',\n",
    "    'specialization_name',\n",
    "]"
   ]
  },
  {
   "cell_type": "code",
   "execution_count": 92,
   "id": "672b1078",
   "metadata": {},
   "outputs": [
    {
     "name": "stdout",
     "output_type": "stream",
     "text": [
      "<class 'pandas.core.frame.DataFrame'>\n",
      "RangeIndex: 696698 entries, 0 to 696697\n",
      "Data columns (total 66 columns):\n",
      " #   Column                         Non-Null Count   Dtype  \n",
      "---  ------                         --------------   -----  \n",
      " 0   id_index                       696698 non-null  int64  \n",
      " 1   accept_handicapped             696698 non-null  bool   \n",
      " 2   archived                       696698 non-null  bool   \n",
      " 3   response_letter_required       696698 non-null  bool   \n",
      " 4   hidden                         696698 non-null  bool   \n",
      " 5   premium                        696698 non-null  bool   \n",
      " 6   allow_messages                 696698 non-null  bool   \n",
      " 7   name                           696698 non-null  object \n",
      " 8   employer_name                  696696 non-null  object \n",
      " 9   employer_id                    695718 non-null  float64\n",
      " 10  salary_to                      390960 non-null  float64\n",
      " 11  salary_from                    646085 non-null  float64\n",
      " 12  area_id                        696698 non-null  int64  \n",
      " 13  area_name                      696698 non-null  object \n",
      " 14  address_city                   208779 non-null  object \n",
      " 15  address_street                 195786 non-null  object \n",
      " 16  address_lat                    215225 non-null  float64\n",
      " 17  address_lng                    215225 non-null  float64\n",
      " 18  address_metro_line_name        92178 non-null   object \n",
      " 19  address_metro_station_id       92178 non-null   float64\n",
      " 20  address_metro_line_id          92178 non-null   float64\n",
      " 21  address_metro_lat              92178 non-null   float64\n",
      " 22  address_metro_station_name     92178 non-null   object \n",
      " 23  address_metro_lng              92178 non-null   float64\n",
      " 24  test_required                  696698 non-null  bool   \n",
      " 25  specialization_id              696698 non-null  object \n",
      " 26  specialization_profarea_name   696698 non-null  object \n",
      " 27  specialization_profarea_id     696698 non-null  object \n",
      " 28  specialization_name            696698 non-null  object \n",
      " 29  line_name                      92178 non-null   object \n",
      " 30  station_id                     92178 non-null   float64\n",
      " 31  line_id                        92178 non-null   float64\n",
      " 32  lat                            92178 non-null   float64\n",
      " 33  station_name                   92178 non-null   object \n",
      " 34  lng                            92178 non-null   float64\n",
      " 35  employment_id_full             696698 non-null  uint8  \n",
      " 36  employment_id_part             696698 non-null  uint8  \n",
      " 37  employment_id_probation        696698 non-null  uint8  \n",
      " 38  employment_id_project          696698 non-null  uint8  \n",
      " 39  employment_id_volunteer        696698 non-null  uint8  \n",
      " 40  billing_type_id_free           696698 non-null  uint8  \n",
      " 41  billing_type_id_premium        696698 non-null  uint8  \n",
      " 42  billing_type_id_standard       696698 non-null  uint8  \n",
      " 43  billing_type_id_standard_plus  696698 non-null  uint8  \n",
      " 44  type_id_anonymous              696698 non-null  uint8  \n",
      " 45  type_id_direct                 696698 non-null  uint8  \n",
      " 46  type_id_open                   696698 non-null  uint8  \n",
      " 47  schedule_id_flexible           696698 non-null  uint8  \n",
      " 48  schedule_id_flyInFlyOut        696698 non-null  uint8  \n",
      " 49  schedule_id_fullDay            696698 non-null  uint8  \n",
      " 50  schedule_id_remote             696698 non-null  uint8  \n",
      " 51  schedule_id_shift              696698 non-null  uint8  \n",
      " 52  salary_currency_AZN            696698 non-null  uint8  \n",
      " 53  salary_currency_BYR            696698 non-null  uint8  \n",
      " 54  salary_currency_EUR            696698 non-null  uint8  \n",
      " 55  salary_currency_GEL            696698 non-null  uint8  \n",
      " 56  salary_currency_KGS            696698 non-null  uint8  \n",
      " 57  salary_currency_KZT            696698 non-null  uint8  \n",
      " 58  salary_currency_RUR            696698 non-null  uint8  \n",
      " 59  salary_currency_UAH            696698 non-null  uint8  \n",
      " 60  salary_currency_USD            696698 non-null  uint8  \n",
      " 61  salary_currency_UZS            696698 non-null  uint8  \n",
      " 62  experience_id_between1And3     696698 non-null  uint8  \n",
      " 63  experience_id_between3And6     696698 non-null  uint8  \n",
      " 64  experience_id_moreThan6        696698 non-null  uint8  \n",
      " 65  experience_id_noExperience     696698 non-null  uint8  \n",
      "dtypes: bool(7), float64(13), int64(2), object(13), uint8(31)\n",
      "memory usage: 174.1+ MB\n"
     ]
    }
   ],
   "source": [
    "data.info()"
   ]
  },
  {
   "cell_type": "code",
   "execution_count": 101,
   "id": "c586937e",
   "metadata": {},
   "outputs": [
    {
     "name": "stdout",
     "output_type": "stream",
     "text": [
      "365\n",
      "[nan 'Печатники' 'Новокосино' 'Киевская' 'Автозаводская' 'Калужская'\n",
      " 'Выборгская' 'Звенигородская' 'Алтуфьево' 'Авиамоторная' 'Пролетарская'\n",
      " 'Электрозаводская' 'Уральская' 'Парк Челюскинцев' 'Спортивная' 'Москва'\n",
      " 'Академия наук' 'Алмалы' 'Суконная слобода' 'Березовая роща' 'Уралмаш'\n",
      " 'Могилевская' 'Райымбек батыра' 'Октябрьское поле' 'Маяковская'\n",
      " 'Ладожская' 'Строгино' 'Площадь Восстания' 'Китай-город' 'Партизанская'\n",
      " 'Малиновка' 'Полежаевская' 'Центральный рынок' 'Выхино' 'Лесная'\n",
      " 'Аэропорт' 'Царицыно' 'Горьковская' 'Петроградская' 'Алексеевская'\n",
      " 'Шоссе энтузиастов' 'Аннино' 'Южная' 'Ботанический сад' 'Старая Деревня'\n",
      " 'Сокольники' 'Чкаловская' 'Речной вокзал' 'Университет' 'Юнгородок'\n",
      " 'Уручье' 'Курская' 'Обводный Канал' 'Бибирево' 'Садовая' 'Чернышевская'\n",
      " 'Балтийская' 'Удельная' 'Лиговский проспект' 'Мякинино'\n",
      " 'Невский проспект' 'Козья слобода' 'Московская' 'Планерная'\n",
      " 'Новокузнецкая' 'Рязанский проспект' 'Черкизовская' 'Купчино' 'Жулебино'\n",
      " 'Тимирязевская' 'Парнас' 'Новослободская' 'Бауманская' 'Автово'\n",
      " 'Павелецкая' 'Театральная' 'Площадь Якуба Коласа' 'Дмитровская'\n",
      " 'Октябрьская' 'Восток' 'Кожуховская' 'Текстильщики' 'Люблино'\n",
      " 'Чёрная речка' 'Институт Культуры' 'Рижская' 'Нарвская'\n",
      " 'Проспект Большевиков' 'Площадь Мужества' 'Технологический институт'\n",
      " 'Водный стадион' 'Марьина Роща' 'Юго-Западная' 'Перово' 'Смоленская'\n",
      " 'Елизаровская' 'Обухово' 'Пражская' 'Сокол' 'Улица 1905 года'\n",
      " 'Площадь Тукая' 'Василеостровская' 'Грушевка' 'Крылатское' 'Свиблово'\n",
      " 'Волгоградский проспект' 'Черниговская' 'Шаболовская' 'Арбатская'\n",
      " 'Преображенская площадь' 'Красные ворота' 'Баррикадная' 'Войковская'\n",
      " 'Кремлевская' 'Марьино' 'Коньково' 'Нагатинская' 'Крестьянская застава'\n",
      " 'Щелковская' 'Крестовский остров' 'Семеновская' 'Белорусская'\n",
      " 'Ломоносовская' 'Московские ворота' 'Парк культуры' 'Новочеркасская'\n",
      " 'Цветной бульвар' 'Коломенская' 'Адмиралтейская' 'Ленинский проспект'\n",
      " 'Менделеевская' 'Проспект Ветеранов' 'Новогиреево' 'Проспект Мира'\n",
      " 'Приморская' 'Пионерская' 'Медведково' 'Кировский завод'\n",
      " 'Тракторный завод' 'Сходненская' 'Алабинская' 'Беговая' 'Домодедовская'\n",
      " 'Каменная Горка' 'Канавинская' 'Воробьевы горы' 'Комсомольская'\n",
      " 'Марксистская' 'Площадь Александра Невского 2' 'Полянка' 'Динамо'\n",
      " 'Кантемировская' 'Тульская' 'Новые Черемушки' 'Немига' 'ВДНХ' 'Горки'\n",
      " 'Электросила' 'Отрадное' 'Площадь Ленина' 'Братиславская' 'Михалово'\n",
      " 'Пушкинская' 'Бабушкинская' 'Достоевская' 'Контрактовая площадь'\n",
      " 'Каширская' 'Серпуховская' 'Тверская' 'Фрунзенская' 'Славянский бульвар'\n",
      " 'Выставочная' 'Котельники' 'Улица Дыбенко' 'Кунцевская'\n",
      " 'Проспект Просвещения' 'Купаловская' 'Савеловская' 'Пятницкое шоссе'\n",
      " 'Парк Победы' 'Майдан Независимости' 'Парк Культуры' 'Петровка'\n",
      " 'Комендантский проспект' 'Кузьминки' 'Площадь Ильича'\n",
      " 'Площадь Гарина-Михайловского' 'Кропоткинская' 'Тропарево'\n",
      " 'площадь Карла Маркса' 'Молодежная' 'Озерки' 'Филевский парк' 'Тушинская'\n",
      " 'Борисовский тракт' 'Охотный ряд' 'Площадь Александра Невского 1'\n",
      " 'Таганская' 'Международная' 'Волковская' 'Политехническая' 'Ботаническая'\n",
      " 'Печерская' 'Нивки' 'Владыкино' 'Теплый Стан' 'Сретенский бульвар'\n",
      " 'Рыбацкое' 'Чистые пруды' 'Варшавская' 'Красносельская'\n",
      " 'Красный проспект' 'Волжская' 'Краснопресненская' 'Проспект Вернадского'\n",
      " 'Профсоюзная' 'Кунцевщина' 'Девяткино' 'Щукинская' 'Бурнаковская'\n",
      " 'Алатау' 'Митино' 'Демеевская' 'Абая' 'Деловой центр' 'Сухаревская'\n",
      " 'Академическая' 'Бухарестская' 'Буревестник' 'Чертановская' 'Петровщина'\n",
      " 'Добрынинская' 'Кузнецкий мост' 'Шулявская' 'Дарница' 'Жибек Жолы'\n",
      " 'Машиностроителей' 'Звёздная' 'Драмтеатр имени Ауэзова' 'Байконур'\n",
      " 'Бульвар Рокоссовского' 'Петровско-Разумовская' 'Измайловская'\n",
      " 'Багратионовская' 'Геологическая' 'Дубровка' 'Лермонтовский проспект'\n",
      " 'Гостиный двор' 'Кутузовская' 'Нагорная' 'Выдубичи'\n",
      " 'Гражданский проспект' 'Дворец \"Украина\"' 'Владимирская' 'Волоколамская'\n",
      " 'Олимпийская' 'Вокзальная' 'Беляево' 'Российская' 'Маршала Покрышкина'\n",
      " 'Проспект Победы' 'Бульвар Дмитрия Донского' 'Нахимовский проспект'\n",
      " 'Лубянка' 'Левобережная' 'Площадь Победы' 'Студенческая'\n",
      " 'Авиастроительная ' 'Улица Академика Янгеля' 'Проспект Космонавтов'\n",
      " 'Северный вокзал ' 'Житомирская' 'Заречная' 'Безымянка' 'Яшьлек (Юность)'\n",
      " 'Аметьево' 'Севастопольская' 'Красногвардейская' 'Советская'\n",
      " 'Золотая нива' 'Ясенево' 'Трубная' 'Фили' 'Гагаринская' 'Первомайская'\n",
      " 'Лыбедская' 'Алма-Атинская' 'Сенная площадь' 'Каховская' 'Третьяковская'\n",
      " 'Проспект Гагарина' 'Сибирская' 'Зябликово' 'Золотые ворота'\n",
      " 'Бульвар Адмирала Ушакова' 'Арсенальная' 'Позняки' 'Васильковская'\n",
      " 'Заельцовская' 'Политехнический институт' 'Двигатель Революции'\n",
      " 'Кировская' 'Минская' 'Дорогожичи' 'Площадь 1905 года' 'Тараса Шевченко'\n",
      " 'Дворец спорта' 'Кловская' 'Римская' 'Героев труда' 'Выставочный центр'\n",
      " 'Бунинская аллея' 'Академика Павлова' 'Ленинская' 'Спасская'\n",
      " 'Площадь Льва Толстого' 'Площадь Революции' 'Лукьяновская' 'Сырец'\n",
      " 'Осокорки' 'Сайран' 'Берестейская' 'Дружбы народов' 'Ипподром'\n",
      " 'Технологический институт 2' 'Улица Скобелевская' 'Чеховская'\n",
      " 'Исторический музей' 'Красный хутор' 'Борисово' 'Академгородок'\n",
      " 'Боровицкая' 'Победа' 'Холодная гора' 'Московский проспект'\n",
      " 'Почтовая площадь' 'Вырлица' 'Библиотека им.Ленина' 'Московская 2'\n",
      " 'Тургеневская' 'Бориспольская' 'Харьковская' 'Улица Старокачаловская'\n",
      " 'Крещатик' 'Улица Горчакова' 'Оболонь' 'Южный вокзал' 'Святошин'\n",
      " 'Госпром' 'Завод имени Малышева' 'Героев Днепра' 'Академика Барабашова'\n",
      " 'Научная' 'Славутич' 'Голосеевская' 'Метростроителей' 'Шипиловская'\n",
      " 'Гидропарк' 'Советской армии' 'Архитектора Бекетова' 'Новоясеневская'\n",
      " 'Бажовская' 'Орехово' 'Маршала Жукова' 'Теремки' 'Александровский сад']\n"
     ]
    }
   ],
   "source": [
    "print(data['address_metro_station_name'].nunique())\n",
    "print(data['address_metro_station_name'].unique())"
   ]
  }
 ],
 "metadata": {
  "kernelspec": {
   "display_name": "Python 3 (ipykernel)",
   "language": "python",
   "name": "python3"
  },
  "language_info": {
   "codemirror_mode": {
    "name": "ipython",
    "version": 3
   },
   "file_extension": ".py",
   "mimetype": "text/x-python",
   "name": "python",
   "nbconvert_exporter": "python",
   "pygments_lexer": "ipython3",
   "version": "3.8.5"
  }
 },
 "nbformat": 4,
 "nbformat_minor": 5
}
